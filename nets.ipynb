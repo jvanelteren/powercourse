{
 "cells": [
  {
   "attachments": {},
   "cell_type": "markdown",
   "metadata": {},
   "source": [
    "## Basic formula"
   ]
  },
  {
   "cell_type": "code",
   "execution_count": 1,
   "metadata": {},
   "outputs": [],
   "source": [
    "from collections import namedtuple\n",
    "import math\n",
    "from math import sqrt\n",
    "import numpy as np\n",
    "\n",
    "import numpy as np\n",
    "import z3\n",
    "from z3 import *\n",
    "\n",
    "def car(real, imag):\n",
    "    return complex(real,imag)\n",
    "\n",
    "def pol(rho, phi):\n",
    "    return (rho, phi)\n",
    "\n",
    "def car2pol(car):\n",
    "    x, y = car.real, car.imag\n",
    "    rho = np.sqrt(x**2 + y**2)\n",
    "    phi = np.arctan2(y, x)\n",
    "    phi = phi / 2 / math.pi * 360\n",
    "    return(rho, phi)\n",
    "\n",
    "def pol2car(rho, phi):\n",
    "    phi = phi / 360 * 2 * math.pi\n",
    "    x = rho * np.cos(phi)\n",
    "    y = rho * np.sin(phi)\n",
    "    return complex(x, y)"
   ]
  },
  {
   "cell_type": "code",
   "execution_count": 2,
   "metadata": {},
   "outputs": [],
   "source": [
    "def checkcar(var):\n",
    "    if isinstance(var, tuple):\n",
    "        print(f'        converting {var} into carthesian to calculate with')\n",
    "        return pol2car(*var)\n",
    "    return var\n",
    "\n",
    "def checkpol(var):\n",
    "    if isinstance(var, complex):\n",
    "        print(f'        converting {var} into polar to calculate with')\n",
    "        return car2pol(var)\n",
    "    if isinstance(var, int):\n",
    "        print(f'        int found for {var} assuming angle = 0 for polar calculation')\n",
    "        return (var, 0)\n",
    "    return var\n",
    "\n",
    "def parallel(x1,x2):\n",
    "    return (x1*x2) / (x1 + x2)\n",
    "\n",
    "def current(voltage, resistance):\n",
    "    voltage = checkcar(voltage)\n",
    "    cur = voltage / resistance\n",
    "    print(f'    current in polar notation: {car2pol(cur)}')\n",
    "    return cur\n",
    "\n",
    "def voltage(current, resistance):\n",
    "    current = checkcar(current)\n",
    "    vol = current * resistance\n",
    "    print(f'    voltage in polar notation: {car2pol(vol)}')\n",
    "    return vol\n",
    "\n",
    "def deg2rad(deg):\n",
    "    return deg / 360 * 2 * math.pi\n",
    "\n",
    "def rad2deg(rad):\n",
    "    return rad / 2 / math.pi * 360\n",
    "\n",
    "\n",
    "def Q(voltage, current):\n",
    "    voltage = checkpol(voltage)\n",
    "    current = checkpol(current)\n",
    "    print(f'    Q = {voltage[0]:.2f} * {current[0]:.2f} * sin({voltage[1]:.2f} - {current[1]:.2f}) WARNING, if current enters at - should be -Q')\n",
    "    return voltage[0] * current[0] * math.sin(deg2rad(voltage[1] - current[1]))\n",
    "    \n",
    "def P(voltage, current):\n",
    "    voltage = checkpol(voltage)\n",
    "    current = checkpol(current)\n",
    "    # print(f'    U = {voltage}, I = {current}')\n",
    "    print(f'    P = {voltage[0]:.2f} * {current[0]:.2f} * cos({voltage[1]:.2f} - {current[1]:.2f}) WARNING, if current enters at - should be -P')\n",
    "    return voltage[0] * current[0] * math.cos(deg2rad(voltage[1] - current[1]))\n",
    "\n",
    "def S(P, Q):\n",
    "    return math.sqrt(P**2 + Q**2)\n",
    "\n"
   ]
  },
  {
   "cell_type": "code",
   "execution_count": 3,
   "metadata": {},
   "outputs": [],
   "source": [
    "def capacitor_resistance(capacity, frequency=50):\n",
    "    return -1 / (2*math.pi * frequency) / capacity\n",
    "\n",
    "def capacitor_capacity(resistance, frequency=50):\n",
    "    return 1 / (resistance * 2*math.pi * frequency)\n",
    "    \n",
    "def inductor_resistance(capacity, frequency=50):\n",
    "    return (2*math.pi * frequency) * capacity\n",
    "\n",
    "def inductor_capacity(resistance, frequency=50):\n",
    "    return resistance / (2*math.pi*frequency)"
   ]
  },
  {
   "attachments": {},
   "cell_type": "markdown",
   "metadata": {},
   "source": [
    "## Solver for complex equations"
   ]
  },
  {
   "cell_type": "code",
   "execution_count": 4,
   "metadata": {},
   "outputs": [],
   "source": [
    "def car2complexexpr(cart):\n",
    "    return ComplexExpr(cart.real, cart.imag)\n",
    "\n",
    "def pol2complexexpr(size, angle):\n",
    "    return car2complexexpr(pol2car(size, angle))\n",
    "\n",
    "def _to_complex(a):\n",
    "    if isinstance(a, ComplexExpr):\n",
    "        return a\n",
    "    else:\n",
    "        return ComplexExpr(a, RealVal(0))\n",
    "\n",
    "def _is_zero(a):\n",
    "    return (isinstance(a, int) and a == 0) or (is_rational_value(a) and a.numerator_as_long() == 0)\n",
    "\n",
    "class ComplexExpr:\n",
    "    def __init__(self, r, i):\n",
    "        self.r = r\n",
    "        self.i = i\n",
    "\n",
    "    def __add__(self, other):\n",
    "        other = _to_complex(other)\n",
    "        return ComplexExpr(self.r + other.r, self.i + other.i)\n",
    "\n",
    "    def __radd__(self, other):\n",
    "        other = _to_complex(other)\n",
    "        return ComplexExpr(other.r + self.r, other.i + self.i)\n",
    "\n",
    "    def __sub__(self, other):\n",
    "        other = _to_complex(other)\n",
    "        return ComplexExpr(self.r - other.r, self.i - other.i)\n",
    "\n",
    "    def __rsub__(self, other):\n",
    "        other = _to_complex(other)\n",
    "        return ComplexExpr(other.r - self.r, other.i - self.i)\n",
    "\n",
    "    def __mul__(self, other):\n",
    "        other = _to_complex(other)\n",
    "        return ComplexExpr(self.r*other.r - self.i*other.i, self.r*other.i + self.i*other.r)\n",
    "\n",
    "    def __mul__(self, other):\n",
    "        other = _to_complex(other)\n",
    "        return ComplexExpr(other.r*self.r - other.i*self.i, other.i*self.r + other.r*self.i)\n",
    "\n",
    "    def inv(self):\n",
    "        den = self.r*self.r + self.i*self.i\n",
    "        return ComplexExpr(self.r/den, -self.i/den)\n",
    "\n",
    "    def __div__(self, other):\n",
    "        inv_other = _to_complex(other).inv()\n",
    "        return self.__mul__(inv_other)\n",
    "\n",
    "    def __rdiv__(self, other):\n",
    "        other = _to_complex(other)\n",
    "        return self.inv().__mul__(other)\n",
    "\n",
    "    def __eq__(self, other):\n",
    "        other = _to_complex(other)\n",
    "        return And(self.r == other.r, self.i == other.i)\n",
    "\n",
    "    def __neq__(self, other):\n",
    "        return Not(self.__eq__(other))\n",
    "\n",
    "    def simplify(self):\n",
    "        return ComplexExpr(simplify(self.r), simplify(self.i))\n",
    "\n",
    "    def repr_i(self):\n",
    "        if is_rational_value(self.i):\n",
    "            return \"%s*I\" % self.i\n",
    "        else:\n",
    "            return \"(%s)*I\" % str(self.i)\n",
    "\n",
    "    def __repr__(self):\n",
    "        if _is_zero(self.i):\n",
    "            return str(self.r)\n",
    "        elif _is_zero(self.r):\n",
    "            return self.repr_i()\n",
    "        else:\n",
    "            return \"%s + %s\" % (self.r, self.repr_i())\n",
    "\n",
    "def Complex(a):\n",
    "    return ComplexExpr(Real('%s.r' % a), Real('%s.i' % a))\n",
    "# I = ComplexExpr(RealVal(0), RealVal(1))\n",
    "\n",
    "def evaluate_cexpr(m, e):\n",
    "    return ComplexExpr(m[e.r], m[e.i])\n",
    "\n",
    "def get_ans(m, var):\n",
    "    r = evaluate_cexpr(m, var).r\n",
    "    i = evaluate_cexpr(m, var).i\n",
    "    real = float(r.numerator_as_long())/float(r.denominator_as_long())\n",
    "    imag = float(i.numerator_as_long())/float(i.denominator_as_long())\n",
    "    return complex(real, imag)"
   ]
  },
  {
   "cell_type": "markdown",
   "metadata": {},
   "source": [
    "### Sandbox"
   ]
  },
  {
   "cell_type": "code",
   "execution_count": 5,
   "metadata": {},
   "outputs": [
    {
     "name": "stdout",
     "output_type": "stream",
     "text": [
      "(30.864750979992415, -35.21359368159654)\n",
      "(15.879783371533687, 85.75016285047698)\n",
      "(26.466305619222812, -4.249837149523023)\n"
     ]
    }
   ],
   "source": [
    "# template for AC nets\n",
    "I1 = Complex(\"x\")\n",
    "I2 = Complex(\"y\")\n",
    "I3 = Complex(\"z\")\n",
    "s = Tactic('qfnra-nlsat').solver()\n",
    "\n",
    "\n",
    "\n",
    "\n",
    "\n",
    "# s.add(ComplexExpr(cur.real, cur.imag) - I1 * ComplexExpr(8,4) - I2*ComplexExpr(0,-6) == 0)\n",
    "# s.add(I2 * ComplexExpr(0,-6) - ComplexExpr(cur2.real, cur2.imag) == 0)\n",
    "# s.add(I1 + I3 - I2 == 0)\n",
    "\n",
    "s.add(100-I1*ComplexExpr(0,6.28)-I3*ComplexExpr(0,-6)==0)\n",
    "s.add(I3*ComplexExpr(0,-6)+I2*10 == 0)\n",
    "s.add(I1 + I2 -I3 == 0)\n",
    "s.check()\n",
    "m = s.model()\n",
    "\n",
    "for var in [I1,I2, I3]:\n",
    "    print(car2pol(get_ans(m,var)))\n",
    "    "
   ]
  },
  {
   "cell_type": "code",
   "execution_count": 6,
   "metadata": {},
   "outputs": [
    {
     "data": {
      "text/plain": [
       "(4, -28, 32, -2, 34)"
      ]
     },
     "execution_count": 6,
     "metadata": {},
     "output_type": "execute_result"
    }
   ],
   "source": [
    "# template for DC nets\n",
    "I1 = Real('x')\n",
    "I2 = Real('y')\n",
    "I3 = Real('z')\n",
    "I4 = Real('r')\n",
    "I5 = Real('t')\n",
    "\n",
    "s = Tactic('qfnra-nlsat').solver()\n",
    "s.add(-10*I1-100-5*I2==0)\n",
    "s.add(5*I2 + 100 -20*I4 == 0)\n",
    "s.add(20*I4 + 40 == 0)\n",
    "\n",
    "s.add(I1 - I2 - I3 == 0)\n",
    "s.add(I3 - I4 - I5 == 0)\n",
    "    \n",
    "s.check()\n",
    "m = s.model()\n",
    "\n",
    "m.eval(I1), m.eval(I2), m.eval(I3),m.eval(I4),m.eval(I5)"
   ]
  },
  {
   "attachments": {},
   "cell_type": "markdown",
   "metadata": {},
   "source": [
    "## Transformers"
   ]
  },
  {
   "cell_type": "code",
   "execution_count": 7,
   "metadata": {},
   "outputs": [],
   "source": [
    "Power = namedtuple('Power', 'Watt VAR')\n",
    "\n",
    "def power(current, resistance):\n",
    "    if isinstance(resistance, complex):\n",
    "        return Power(power(current, resistance.real)[0], \n",
    "                     power(current, resistance.imag)[0])\n",
    "    if isinstance(current, complex): # it's in carthesian, convert to polar\n",
    "        current = car2pol(current)\n",
    "    if isinstance(current, tuple): # it's in polar, ignore the phase angle\n",
    "        current = current[0]\n",
    "    \n",
    "    p = current ** 2 * resistance\n",
    "    print(f'    using I2* R: {current}**2 {resistance} = {p}')\n",
    "    return Power(p,0)\n",
    "\n",
    "\n",
    "def trans(primaryvoltage, primaryresistance, secondaryresistance, ratio):\n",
    "    # bring everything to left side\n",
    "    primaryvoltage = checkcar(primaryvoltage)\n",
    "    res = primaryresistance + ratio ** 2 * secondaryresistance\n",
    "    print(f'Total reactance for source {res}')\n",
    "    Iprim = current(primaryvoltage, res)\n",
    "    Isec = Iprim * ratio\n",
    "    \n",
    "    Uprim = checkcar(primaryvoltage) - primaryresistance * Iprim\n",
    "    Usec  = Uprim / ratio\n",
    "    print(f'Transformer: \\nIp {car2pol(Iprim)}\\nIs {car2pol(Isec)}\\nUp {car2pol(Uprim)}\\nUs {car2pol(Usec)}')\n",
    "    print(f'Pprim {P(Uprim, Iprim)}W Qprim {Q(Uprim, Iprim)}VAR')\n",
    "    psource = -P(primaryvoltage, Iprim)\n",
    "    qsource = -Q(primaryvoltage, Iprim)\n",
    "    print(f'Powers on primary side Psource: {psource}, Qsource {qsource}')\n",
    "    print(f'Resistances on primary side: {power(Iprim, primaryresistance)}')\n",
    "    print(f'Resistances on secondary side: {power(Isec, secondaryresistance)}')\n",
    "    print(f'Efficiency transformer: {power(Isec, secondaryresistance).Watt} / {psource} = {power(Isec, secondaryresistance).Watt / psource}')"
   ]
  },
  {
   "cell_type": "code",
   "execution_count": 8,
   "metadata": {},
   "outputs": [],
   "source": [
    "def nullast(P,U,I):\n",
    "    S = U * I # schijnbaar vermogen\n",
    "    Q = (S**2 - P**2)**0.5 # blind vermogen\n",
    "    # nullasten staan parallel aan de bron dus P = U**2 / R gebruiken\n",
    "    Rij = U**2 / P  \n",
    "    Xmu = U**2 / Q\n",
    "    phi = rad2deg(math.acos((P / (U * I)))) # from formula P = U * I * cos(phi)\n",
    "    print(\n",
    "        'Nullast:\\n'\n",
    "        f'S = {S}\\n'\n",
    "        f'Q = {Q} : sqrt(S**2 - P**2) = sqrt({S**2} - {P**2})\\n'\n",
    "        f'phi = {phi} : rad2deg(acos((P / (U * I))))\\n'\n",
    "        f'Rij = {Rij} : U**2 / P\\n'\n",
    "        f'Xmu = {Xmu} : U**2 / Q\\n')\n",
    "    return Rij, Xmu\n",
    "\n",
    "\n",
    "def kortsluit(P,U,I):\n",
    "    S = U * I # schijnbaar vermogen\n",
    "    Q = (S**2 - P**2)**0.5 # blind vermogen\n",
    "    # nullasten staan in serie met bron dus P = I**2 * R gebruiken\n",
    "    Rk = P / I**2\n",
    "    Xk = Q / I**2\n",
    "    phi = rad2deg(math.acos((P / (U * I)))) # from formula P = U * I * cos(phi)\n",
    "    print(\n",
    "        'Kortsluit:\\n'\n",
    "        f'S = {S}\\n'\n",
    "        f'Q = {Q} : sqrt(S**2 - P**2) = sqrt({S**2} - {P**2})\\n'\n",
    "        f'phi = {phi} : rad2deg(acos((P / (U * I))))\\n'\n",
    "        f\"Rk = {Rk} : P / I ** 2. Note Rk = R1 + R'2\\n\"\n",
    "        f'Xk = {Xk} : Q / I ** 2\\n')\n",
    "    return Rk, Xk\n",
    "\n"
   ]
  },
  {
   "attachments": {},
   "cell_type": "markdown",
   "metadata": {},
   "source": [
    "### Sandbox"
   ]
  },
  {
   "cell_type": "code",
   "execution_count": 36,
   "metadata": {},
   "outputs": [
    {
     "ename": "ValueError",
     "evalue": "math domain error",
     "output_type": "error",
     "traceback": [
      "\u001b[1;31m---------------------------------------------------------------------------\u001b[0m",
      "\u001b[1;31mValueError\u001b[0m                                Traceback (most recent call last)",
      "\u001b[1;32md:\\Programmeren\\projects\\powercourse\\nets.ipynb Cell 14\u001b[0m in \u001b[0;36m1\n\u001b[1;32m----> <a href='vscode-notebook-cell:/d%3A/Programmeren/projects/powercourse/nets.ipynb#X16sZmlsZQ%3D%3D?line=0'>1</a>\u001b[0m kortsluit(\u001b[39m10\u001b[39;49m,\u001b[39m1\u001b[39;49m,\u001b[39m2\u001b[39;49m)\n",
      "\u001b[1;32md:\\Programmeren\\projects\\powercourse\\nets.ipynb Cell 14\u001b[0m in \u001b[0;36m2\n\u001b[0;32m     <a href='vscode-notebook-cell:/d%3A/Programmeren/projects/powercourse/nets.ipynb#X16sZmlsZQ%3D%3D?line=21'>22</a>\u001b[0m Rk \u001b[39m=\u001b[39m P \u001b[39m/\u001b[39m I\u001b[39m*\u001b[39m\u001b[39m*\u001b[39m\u001b[39m2\u001b[39m\n\u001b[0;32m     <a href='vscode-notebook-cell:/d%3A/Programmeren/projects/powercourse/nets.ipynb#X16sZmlsZQ%3D%3D?line=22'>23</a>\u001b[0m Xk \u001b[39m=\u001b[39m Q \u001b[39m/\u001b[39m I\u001b[39m*\u001b[39m\u001b[39m*\u001b[39m\u001b[39m2\u001b[39m\n\u001b[1;32m---> <a href='vscode-notebook-cell:/d%3A/Programmeren/projects/powercourse/nets.ipynb#X16sZmlsZQ%3D%3D?line=23'>24</a>\u001b[0m phi \u001b[39m=\u001b[39m rad2deg(math\u001b[39m.\u001b[39;49macos((P \u001b[39m/\u001b[39;49m (U \u001b[39m*\u001b[39;49m I)))) \u001b[39m# from formula P = U * I * cos(phi)\u001b[39;00m\n\u001b[0;32m     <a href='vscode-notebook-cell:/d%3A/Programmeren/projects/powercourse/nets.ipynb#X16sZmlsZQ%3D%3D?line=24'>25</a>\u001b[0m \u001b[39mprint\u001b[39m(\n\u001b[0;32m     <a href='vscode-notebook-cell:/d%3A/Programmeren/projects/powercourse/nets.ipynb#X16sZmlsZQ%3D%3D?line=25'>26</a>\u001b[0m     \u001b[39m'\u001b[39m\u001b[39mKortsluit:\u001b[39m\u001b[39m\\n\u001b[39;00m\u001b[39m'\u001b[39m\n\u001b[0;32m     <a href='vscode-notebook-cell:/d%3A/Programmeren/projects/powercourse/nets.ipynb#X16sZmlsZQ%3D%3D?line=26'>27</a>\u001b[0m     \u001b[39mf\u001b[39m\u001b[39m'\u001b[39m\u001b[39mS = \u001b[39m\u001b[39m{\u001b[39;00mS\u001b[39m}\u001b[39;00m\u001b[39m\\n\u001b[39;00m\u001b[39m'\u001b[39m\n\u001b[1;32m   (...)\u001b[0m\n\u001b[0;32m     <a href='vscode-notebook-cell:/d%3A/Programmeren/projects/powercourse/nets.ipynb#X16sZmlsZQ%3D%3D?line=29'>30</a>\u001b[0m     \u001b[39mf\u001b[39m\u001b[39m\"\u001b[39m\u001b[39mRk = \u001b[39m\u001b[39m{\u001b[39;00mRk\u001b[39m}\u001b[39;00m\u001b[39m : P / I ** 2. Note Rk = R1 + R\u001b[39m\u001b[39m'\u001b[39m\u001b[39m2\u001b[39m\u001b[39m\\n\u001b[39;00m\u001b[39m\"\u001b[39m\n\u001b[0;32m     <a href='vscode-notebook-cell:/d%3A/Programmeren/projects/powercourse/nets.ipynb#X16sZmlsZQ%3D%3D?line=30'>31</a>\u001b[0m     \u001b[39mf\u001b[39m\u001b[39m'\u001b[39m\u001b[39mXk = \u001b[39m\u001b[39m{\u001b[39;00mXk\u001b[39m}\u001b[39;00m\u001b[39m : Q / I ** 2\u001b[39m\u001b[39m\\n\u001b[39;00m\u001b[39m'\u001b[39m)\n\u001b[0;32m     <a href='vscode-notebook-cell:/d%3A/Programmeren/projects/powercourse/nets.ipynb#X16sZmlsZQ%3D%3D?line=31'>32</a>\u001b[0m \u001b[39mreturn\u001b[39;00m Rk, Xk\n",
      "\u001b[1;31mValueError\u001b[0m: math domain error"
     ]
    }
   ],
   "source": [
    "kortsluit(10,1,2)"
   ]
  },
  {
   "cell_type": "code",
   "execution_count": null,
   "metadata": {},
   "outputs": [],
   "source": []
  },
  {
   "attachments": {},
   "cell_type": "markdown",
   "metadata": {},
   "source": [
    "## Asynchronous machines"
   ]
  },
  {
   "cell_type": "code",
   "execution_count": 9,
   "metadata": {},
   "outputs": [],
   "source": [
    "from math import sqrt\n",
    "def phase2linevoltage(phasevoltage):\n",
    "    return sqrt(3) * phasevoltage\n",
    "def line2phasevoltage(linevoltage):\n",
    "    return linevoltage / sqrt(3)\n",
    "line2phasevoltage(10000)\n",
    "\n",
    "def S3f(Ul, I):\n",
    "    return sqrt(3) * Ul * I\n",
    "\n",
    "def Pdriehoek(Pster):\n",
    "    return 3 * Pster"
   ]
  },
  {
   "cell_type": "code",
   "execution_count": 10,
   "metadata": {},
   "outputs": [],
   "source": [
    "def slip(fnet, frotor):\n",
    "    # slip = 1, means rotor is stationary\n",
    "    # slip = 0, means fnet == frotor\n",
    "    # slip < 0, means machine is acting as generator\n",
    "    return (fnet - frotor) / fnet\n",
    "\n",
    "\n",
    "def slip2freq(slip, fnet=None):\n",
    "    if not fnet: fnet = 50\n",
    "    # slip = (fnet - frot) / fnet\n",
    "    return -(slip * fnet - fnet)\n"
   ]
  },
  {
   "cell_type": "code",
   "execution_count": 11,
   "metadata": {},
   "outputs": [],
   "source": [
    "def R2(Rk, ohmmeasured):\n",
    "    # vervangingsweerstand as berekenen bij bekend zijn van Rk vanuit kortsluitproef\n",
    "    return Rk - (ohmmeasured / 2)\n",
    "\n",
    "def Ras(R2, slip):\n",
    "    # vervangingsweerstand as berekenen inclusief slip\n",
    "    return R2 * (1-slip) / slip\n",
    "\n",
    "def Pas(I, R2, slip):\n",
    "    # asvermogen bepalen\n",
    "    return 3 * I**2 * Ras(R2, slip)\n",
    "\n",
    "def koppel(P, freq):\n",
    "    # P = w T\n",
    "    return P / (freq * 2 * math.pi)"
   ]
  },
  {
   "cell_type": "code",
   "execution_count": 12,
   "metadata": {},
   "outputs": [],
   "source": [
    "def Ras2slip(Ras, R2):\n",
    "    R = Ras / R2\n",
    "    return 1 / (R + 1)\n",
    "\n"
   ]
  },
  {
   "cell_type": "code",
   "execution_count": 13,
   "metadata": {},
   "outputs": [],
   "source": [
    "def asynchrone(voltage, Xk, Rk, R2, slip):\n",
    "    # gegeven vervangingsschema en een slip bepaal stroom, vermogens en rendement\n",
    "    # returns asvermogen\n",
    "    if isinstance(voltage, int):\n",
    "        voltage = (voltage, 0)\n",
    "    reactance = complex(Rk + Ras(R2, slip), Xk)\n",
    "    cur = checkpol(current(voltage, reactance))\n",
    "    print('Asynchronous machine')\n",
    "    print('Total reactance = ', reactance)\n",
    "    print(f'Current = {cur} (voltage / reactance)')\n",
    "    print('P = ', -3* P(voltage, cur))\n",
    "    print('Q = ', -3*Q(voltage, cur))\n",
    "    print('Pas = ', Pas(cur[0], R2, slip))\n",
    "    print('rendement bij slip > 0 (anders 1/x doen)', Pas(cur[0], R2, slip) / (3 * P(voltage, cur)))\n",
    "    return Pas(cur[0], R2, slip)"
   ]
  },
  {
   "cell_type": "markdown",
   "metadata": {},
   "source": [
    "### Sandbox"
   ]
  },
  {
   "cell_type": "code",
   "execution_count": null,
   "metadata": {},
   "outputs": [],
   "source": []
  },
  {
   "cell_type": "code",
   "execution_count": null,
   "metadata": {},
   "outputs": [],
   "source": []
  },
  {
   "attachments": {},
   "cell_type": "markdown",
   "metadata": {},
   "source": [
    "## Synchnonous machines"
   ]
  },
  {
   "cell_type": "code",
   "execution_count": 14,
   "metadata": {},
   "outputs": [],
   "source": [
    "\n",
    "\n",
    "# def tas(slip, fnet):\n",
    "#     was = 2 * math.pi * fnet * (1-slip)\n",
    "#     print(slip)\n",
    "#     return p(slip) / was\n",
    "# s = np.linspace(-0.99,0.99,20)\n",
    "# fnet = 50\n",
    "# t = [tas(x, fnet) for x in s]"
   ]
  },
  {
   "cell_type": "code",
   "execution_count": 15,
   "metadata": {},
   "outputs": [
    {
     "name": "stdout",
     "output_type": "stream",
     "text": [
      "Bij een I2 van 4A wordt de nominale fasespanning gehaald van 230V\n",
      "Bij een I2 van 12A treedt een I1 op van 70A, dus bij I2 van 4A is I1 23.333333333333332A\n",
      "Hieruit volgt:\n",
      "X1 = 9.857142857142858 Ohm (230 / 23.333333333333332)\n",
      "Lambda = 57.5 (230 / 4)\n"
     ]
    },
    {
     "data": {
      "text/plain": [
       "9.857142857142858"
      ]
     },
     "execution_count": 15,
     "metadata": {},
     "output_type": "execute_result"
    }
   ],
   "source": [
    "def X1(Unom, I2nullast, I1kortsluit, I2kortsluit):\n",
    "    lamb = Unom / I2nullast\n",
    "    print(f'Bij een I2 van {I2nullast}A wordt de nominale fasespanning gehaald van {Unom}V')\n",
    "    I1nullast = I1kortsluit / I2kortsluit * I2nullast\n",
    "    print(f'Bij een I2 van {I2kortsluit}A treedt een I1 op van {I1kortsluit}A, dus bij I2 van {I2nullast}A is I1 {I1nullast}A')\n",
    "    X1 = Unom / I1nullast\n",
    "    print('Hieruit volgt:')\n",
    "    print(f'X1 = {X1} Ohm ({Unom} / {I1nullast})')\n",
    "    print(f'Lambda = {lamb} ({Unom} / {I2nullast})')\n",
    "    return X1\n",
    "\n",
    "X1(230, 4,70, 12)"
   ]
  },
  {
   "cell_type": "code",
   "execution_count": 16,
   "metadata": {},
   "outputs": [],
   "source": [
    "# capacitive behavior = phase angle current > phase angle voltage, like a balloon, where flow goes before size\n",
    "# inductive behavior = phase angle voltage > current, like a train where voltage goes before motion\n",
    "\n",
    "# if I net phase angle < 0: angle in machine diagram goes right up (inductive behavior of net), this is correct since voltage angle > current"
   ]
  },
  {
   "cell_type": "code",
   "execution_count": 17,
   "metadata": {},
   "outputs": [],
   "source": [
    "def behavior(phi):\n",
    "    phi = (phi + 360) % 360\n",
    "    angle_induccapa = 'capacitive' if phi <= 180 else 'inductive'\n",
    "    angle_motorgenerator = 'generator' if 90 <= phi <= 270 else 'motor'\n",
    "    return angle_induccapa, angle_motorgenerator\n",
    "\n",
    "def cosphi_to_options(cosphi):\n",
    "    # if you don't know if cosphi is for Inet or I1, just enter the cos phi and it will explain how it behaves\n",
    "    phi = math.acos(cosphi) / 2 / math.pi * 360\n",
    "    print(f'phi = {phi}, but could also have been {-phi} or with 180 degrees offset if we looked the other way')\n",
    "    for p in (phi, -phi):\n",
    "        for reverse in (0,180):\n",
    "            newphi =  p + reverse\n",
    "            print(f'{newphi} leads to {behavior(newphi)}')"
   ]
  },
  {
   "cell_type": "code",
   "execution_count": 18,
   "metadata": {},
   "outputs": [],
   "source": [
    "def syn_net(U1, I1, X1, l = None):\n",
    "    UX1 = voltage(I1, complex(0,X1)) \n",
    "    print(f'Voltage over X1 {car2pol(UX1)}')\n",
    "    U12 = car2pol(pol2car(*U1) - UX1) # Kirchhoff to determine U12\n",
    "    print(f'U12 = {U12} = Unet - UX1 --> {U1} - {car2pol(UX1)}')\n",
    "    print(f'Pas is {3 * P(U12, I1)}')\n",
    "    QX1 = 3 * I1[0]**2 * X1\n",
    "    Qas = 3 * Q(U12, I1)\n",
    "    print(f'Qas = {Qas}')\n",
    "    print(f'QX1 = {QX1} (3 * I**2 * X1)')\n",
    "    print(f'Pnet = {-3 * P(U1, I1)}')\n",
    "    print(f'Qnet = {-3 * Q(U1, I1)}')\n",
    "    machineQ = QX1 + Qas\n",
    "    print(QX1, Qas, machineQ)\n",
    "    induccapa = 'inductive' if machineQ > 0 else 'capacitive'\n",
    "    print(f'machine is operating {machineQ}, therefore {induccapa}')\n",
    "    delta = U12[1] - U1[1]\n",
    "    motorgenerator = 'generator' if delta >= 0 else 'motor'\n",
    "    print(f'lasthoek delta = {delta}, therefore {motorgenerator} behavior')\n",
    "    phi = I1[1] % 360\n",
    "    print(f'asserting behavior phase angle for I1 (phi): {phi}. 0-180=cap, 180-360=ind, 0-90 & 270-360 = motor, 90-270=generator')\n",
    "    angle_induccapa = 'capacitive' if phi <= 180 else 'inductive'\n",
    "    angle_motorgenerator = 'generator' if 90 <= phi <= 270 else 'motor'\n",
    "    assert induccapa == angle_induccapa and motorgenerator == angle_motorgenerator\n",
    "    \n",
    "    if l:\n",
    "        I2 = U12[0] / l\n",
    "        print(f'I2 is {I2}A')\n",
    "    return U12\n"
   ]
  },
  {
   "cell_type": "code",
   "execution_count": null,
   "metadata": {},
   "outputs": [],
   "source": []
  },
  {
   "cell_type": "code",
   "execution_count": 19,
   "metadata": {},
   "outputs": [],
   "source": [
    "def syn_island(resistance_island, U1, X1, l = None):\n",
    "    Iz = car2pol(current(U1, resistance_island)) # calculate Iz from U1 and resistance\n",
    "    I1 = (Iz[0], (Iz[1] + 180) % 360) # I1 == Iz, but reverse phase angle\n",
    "    print(f'I1 = {I1}')\n",
    "    \n",
    "    UX1 = voltage(I1, complex(0,X1)) \n",
    "    print(f'Voltage over X1 {car2pol(UX1)}')\n",
    "    U12 = car2pol(pol2car(*U1) - UX1) # Kirchhoff to determine U12\n",
    "    print(f'U12 = {U12} = Unet - UX1 --> {U1} - {car2pol(UX1)}')\n",
    "    print(f'Pas is {3 * P(U12, I1)}')\n",
    "    QX1 = 3 * I1[0]**2 * X1\n",
    "    Qas = 3 * Q(U12, I1)\n",
    "    print(f'Qas = {Qas}')\n",
    "    print(f'QX1 = {QX1} (3 * I**2 * X1)')\n",
    "    print(f'Pnet = {-3 * P(U1, I1)}')\n",
    "    print(f'Qnet = {-3 * Q(U1, I1)}')\n",
    "    machineQ = QX1 + Qas\n",
    "    induccapa = 'inductive' if machineQ > 0 else 'capacitive'\n",
    "    print(f'machine is operating {machineQ}, therefore {induccapa}')\n",
    "    delta = U12[1] - U1[1]\n",
    "    motorgenerator = 'generator' if delta >= 0 else 'motor'\n",
    "    print(f'lasthoek delta = {delta}, therefore {motorgenerator} behavior')\n",
    "    phi = I1[1] % 360\n",
    "    print(f'asserting behavior phase angle for I1 (phi): {phi}. 0-180=cap, 180-360=ind, 0-90 & 270-360 = motor, 90-270=generator')\n",
    "    assert behavior(phi) == (induccapa, motorgenerator) \n",
    "    \n",
    "    if l:\n",
    "        I2 = U12[0] / l\n",
    "        print(f'I2 is {I2}A')\n",
    "    return U12\n"
   ]
  },
  {
   "attachments": {},
   "cell_type": "markdown",
   "metadata": {},
   "source": [
    "### Sandbox"
   ]
  },
  {
   "cell_type": "code",
   "execution_count": 20,
   "metadata": {},
   "outputs": [
    {
     "name": "stdout",
     "output_type": "stream",
     "text": [
      "        converting (54.35, 217) into carthesian to calculate with\n",
      "    voltage in polar notation: (760.9000000000001, -53.00000000000002)\n",
      "Voltage over X1 (760.9000000000001, -53.00000000000002)\n",
      "U12 = (649.0185871656213, 110.55938395147095) = Unet - UX1 --> (230, 0) - (760.9000000000001, -53.00000000000002)\n",
      "    P = 649.02 * 54.35 * cos(110.56 - 217.00) WARNING, if current enters at - should be -P\n",
      "Pas is -29950.02958003861\n",
      "    Q = 649.02 * 54.35 * sin(110.56 - 217.00) WARNING, if current enters at - should be -Q\n",
      "Qas = -101495.77890926346\n",
      "QX1 = 124064.745 (3 * I**2 * X1)\n",
      "    P = 230.00 * 54.35 * cos(0.00 - 217.00) WARNING, if current enters at - should be -P\n",
      "Pnet = 29950.02958003856\n",
      "    Q = 230.00 * 54.35 * sin(0.00 - 217.00) WARNING, if current enters at - should be -Q\n",
      "Qnet = -22568.96609073653\n",
      "124064.745 -101495.77890926346 22568.966090736532\n",
      "machine is operating 22568.966090736532, therefore inductive\n",
      "lasthoek delta = 110.55938395147095, therefore generator behavior\n",
      "asserting behavior phase angle for I1 (phi): 217. 0-180=cap, 180-360=ind, 0-90 & 270-360 = motor, 90-270=generator\n"
     ]
    },
    {
     "data": {
      "text/plain": [
       "(649.0185871656213, 110.55938395147095)"
      ]
     },
     "execution_count": 20,
     "metadata": {},
     "output_type": "execute_result"
    }
   ],
   "source": [
    "syn_net((230,0), (54.35,217), 14)"
   ]
  },
  {
   "cell_type": "code",
   "execution_count": 21,
   "metadata": {},
   "outputs": [
    {
     "name": "stdout",
     "output_type": "stream",
     "text": [
      "phi = 36.86989764584401, but could also have been -36.86989764584401 or with 180 degrees offset if we looked the other way\n",
      "36.86989764584401 leads to ('capacitive', 'motor')\n",
      "216.86989764584402 leads to ('inductive', 'generator')\n",
      "-36.86989764584401 leads to ('inductive', 'motor')\n",
      "143.13010235415598 leads to ('capacitive', 'generator')\n"
     ]
    }
   ],
   "source": [
    "cosphi_to_options(0.8)"
   ]
  },
  {
   "cell_type": "code",
   "execution_count": 22,
   "metadata": {},
   "outputs": [
    {
     "name": "stdout",
     "output_type": "stream",
     "text": [
      "        converting (6870, 143) into carthesian to calculate with\n",
      "    voltage in polar notation: (5152.5, -127.00000000000004)\n",
      "Voltage over X1 (5152.5, -127.00000000000004)\n",
      "U12 = (10042.618252244087, 24.189172669857317) = Unet - UX1 --> (6060, 0) - (5152.5, -127.00000000000004)\n",
      "    P = 10042.62 * 6870.00 * cos(24.19 - 143.00) WARNING, if current enters at - should be -P\n",
      "Pas is -99746859.84417278\n",
      "    Q = 10042.62 * 6870.00 * sin(24.19 - 143.00) WARNING, if current enters at - should be -Q\n",
      "Qas = -181357675.22061208\n",
      "QX1 = 106193025.0 (3 * I**2 * X1)\n",
      "    P = 6060.00 * 6870.00 * cos(0.00 - 143.00) WARNING, if current enters at - should be -P\n",
      "Pnet = 99746859.84417269\n",
      "    Q = 6060.00 * 6870.00 * sin(0.00 - 143.00) WARNING, if current enters at - should be -Q\n",
      "Qnet = 75164650.22061215\n",
      "106193025.0 -181357675.22061208 -75164650.22061208\n",
      "machine is operating -75164650.22061208, therefore capacitive\n",
      "lasthoek delta = 24.189172669857317, therefore generator behavior\n",
      "asserting behavior phase angle for I1 (phi): 143. 0-180=cap, 180-360=ind, 0-90 & 270-360 = motor, 90-270=generator\n"
     ]
    },
    {
     "data": {
      "text/plain": [
       "(10042.618252244087, 24.189172669857317)"
      ]
     },
     "execution_count": 22,
     "metadata": {},
     "output_type": "execute_result"
    }
   ],
   "source": [
    "syn_net((6060,0), (6870,143), 0.75)"
   ]
  },
  {
   "cell_type": "code",
   "execution_count": 23,
   "metadata": {},
   "outputs": [
    {
     "name": "stdout",
     "output_type": "stream",
     "text": [
      "        converting (6870, 143) into carthesian to calculate with\n",
      "    voltage in polar notation: (5152.5, -127.00000000000004)\n",
      "Voltage over X1 (5152.5, -127.00000000000004)\n",
      "U12 = (10042.618252244087, 24.189172669857317) = Unet - UX1 --> (6060, 0) - (5152.5, -127.00000000000004)\n",
      "    P = 10042.62 * 6870.00 * cos(24.19 - 143.00) WARNING, if current enters at - should be -P\n",
      "Pas is -99746859.84417278\n",
      "    Q = 10042.62 * 6870.00 * sin(24.19 - 143.00) WARNING, if current enters at - should be -Q\n",
      "Qas = -181357675.22061208\n",
      "QX1 = 106193025.0 (3 * I**2 * X1)\n",
      "    P = 6060.00 * 6870.00 * cos(0.00 - 143.00) WARNING, if current enters at - should be -P\n",
      "Pnet = 99746859.84417269\n",
      "    Q = 6060.00 * 6870.00 * sin(0.00 - 143.00) WARNING, if current enters at - should be -Q\n",
      "Qnet = 75164650.22061215\n",
      "106193025.0 -181357675.22061208 -75164650.22061208\n",
      "machine is operating -75164650.22061208, therefore capacitive\n",
      "lasthoek delta = 24.189172669857317, therefore generator behavior\n",
      "asserting behavior phase angle for I1 (phi): 143. 0-180=cap, 180-360=ind, 0-90 & 270-360 = motor, 90-270=generator\n"
     ]
    },
    {
     "data": {
      "text/plain": [
       "(10042.618252244087, 24.189172669857317)"
      ]
     },
     "execution_count": 23,
     "metadata": {},
     "output_type": "execute_result"
    }
   ],
   "source": [
    "syn_net((6060,0), (6870,143), 0.75)"
   ]
  },
  {
   "cell_type": "markdown",
   "metadata": {},
   "source": [
    "## Kortsluit"
   ]
  },
  {
   "cell_type": "code",
   "execution_count": 24,
   "metadata": {},
   "outputs": [],
   "source": [
    "# P = S * cosphi\n",
    "# Q = S * sinphi\n"
   ]
  },
  {
   "cell_type": "code",
   "execution_count": 25,
   "metadata": {},
   "outputs": [
    {
     "data": {
      "text/plain": [
       "0.0"
      ]
     },
     "execution_count": 25,
     "metadata": {},
     "output_type": "execute_result"
    }
   ],
   "source": [
    "def cosphitosin(cosphi):\n",
    "    return sqrt(1-cosphi**2)\n",
    "cosphitosin(1)"
   ]
  },
  {
   "cell_type": "code",
   "execution_count": 26,
   "metadata": {},
   "outputs": [],
   "source": [
    "def gen_current(Sn, U3f):\n",
    "    # can be used for nominal calculations (Un3f) but also for actual calculations (U3f)\n",
    "    return Sn / (sqrt(3) * U3f)\n",
    "\n",
    "def gen_reactance(xd, Un, Sn):\n",
    "    return xd * Un**2 / Sn\n",
    "\n",
    "def gen_kortsluit(U12, Xg):\n",
    "    return U12 / Xg"
   ]
  },
  {
   "cell_type": "code",
   "execution_count": 27,
   "metadata": {},
   "outputs": [],
   "source": [
    "def cable_impedance(R, L, km):\n",
    "    # assumes R and L are given per km\n",
    "    X = 314 * L\n",
    "    return complex(R * km, X * km)\n",
    "Z = cable_impedance(7.41, 0.32*10**-3, 0.1)\n",
    "\n",
    "def cable_kortsluit(U, Z):\n",
    "    return current(U, Z)\n",
    "\n",
    "def cable_admitantie(C, km):\n",
    "    return km * 314 * C\n",
    "cable_admitantie(400*10**-9, 50)\n",
    "\n",
    "def admitantie_to_reactance(Y):\n",
    "    Y /= 2\n",
    "    return complex(0,-1/Y)\n",
    "    \n",
    "def Zx(C, km, Rcable, Lcable, Rload, cosphi, Unet = None):\n",
    "    Y = cable_admitantie(C, km)\n",
    "    X = admitantie_to_reactance(Y)\n",
    "    Xcable = cable_impedance(Rcable, Lcable, km)\n",
    "    Xload = load_impedance(Rload, cosphi)\n",
    "    print(f'Y {Y}, X {X}, Xcable {Xcable}, Xload {Xload}')\n",
    "    Z = parallel(Xload, X) + Xcable\n",
    "    if Unet:\n",
    "        print(f'I {current(Unet, Z)}')\n",
    "    return Z\n",
    "\n"
   ]
  },
  {
   "cell_type": "code",
   "execution_count": 37,
   "metadata": {},
   "outputs": [],
   "source": [
    "def trans_impedance(uk, U3f, S, P):\n",
    "    \n",
    "    Z = uk * U3f**2 / S\n",
    "    R = P * U3f**2 / S**2\n",
    "    X = sqrt(Z**2 - R**2)\n",
    "    return Z, R, X\n",
    "trans_impedance(25/150, 150*10**3, 60*10**6, 12000)\n",
    "\n",
    "def trans_kortsluit(Rk, Ifase, Unom3f):\n",
    "    Uk = Rk * Ifase\n",
    "    u = Uk / Unom3f / sqrt(3)\n",
    "    print()\n",
    "    return u\n",
    " \n",
    "_, a, b = trans_impedance(0.04, 10000, 250000, 4000) \n",
    "t = complex(a,b)"
   ]
  },
  {
   "cell_type": "code",
   "execution_count": 40,
   "metadata": {},
   "outputs": [
    {
     "data": {
      "text/plain": [
       "(62.5, 0.075, 62.4999549999838)"
      ]
     },
     "execution_count": 40,
     "metadata": {},
     "output_type": "execute_result"
    }
   ],
   "source": [
    "trans_impedance(25/150, 150*10**3, 60*10**6, 12000)"
   ]
  },
  {
   "cell_type": "code",
   "execution_count": 41,
   "metadata": {},
   "outputs": [
    {
     "data": {
      "text/plain": [
       "5000"
      ]
     },
     "execution_count": 41,
     "metadata": {},
     "output_type": "execute_result"
    }
   ],
   "source": [
    "200*25"
   ]
  },
  {
   "cell_type": "code",
   "execution_count": 29,
   "metadata": {},
   "outputs": [
    {
     "data": {
      "text/plain": [
       "10.080625"
      ]
     },
     "execution_count": 29,
     "metadata": {},
     "output_type": "execute_result"
    }
   ],
   "source": [
    "def grid_kortsluit(Sk, Un):\n",
    "    return Sk / (sqrt(3)*Un)\n",
    "grid_kortsluit(400*10**6, 110000)\n",
    "\n",
    "def grid_impedance(Un, Sk):\n",
    "    return Un**2 / Sk / 3 \n",
    "grid_impedance(63500, 400*10**6/3)"
   ]
  },
  {
   "cell_type": "code",
   "execution_count": 30,
   "metadata": {},
   "outputs": [],
   "source": [
    "def load_impedance(R, cosphi):\n",
    "    return complex(R * cosphi, R * cosphitosin(cosphi))\n",
    "Z = load_impedance(1.2, 0.85)\n",
    "Z *= (10000/400)**2"
   ]
  },
  {
   "cell_type": "code",
   "execution_count": 31,
   "metadata": {},
   "outputs": [],
   "source": [
    "li = complex(3.25, 1.2)/2\n",
    "# st = current(10000/sqrt(3), t + l + li)\n",
    "# v = (voltage(st, l) / (10000/400))\n",
    "# st = st * (10000/400)\n",
    "\n",
    "# car2pol(st)"
   ]
  },
  {
   "cell_type": "code",
   "execution_count": 32,
   "metadata": {},
   "outputs": [
    {
     "data": {
      "text/plain": [
       "((1.625+0.6j), (6.4+14.664242223858688j))"
      ]
     },
     "execution_count": 32,
     "metadata": {},
     "output_type": "execute_result"
    }
   ],
   "source": [
    "li, t, "
   ]
  },
  {
   "cell_type": "code",
   "execution_count": 33,
   "metadata": {},
   "outputs": [
    {
     "name": "stdout",
     "output_type": "stream",
     "text": [
      "    current in polar notation: (334.7885207524587, -62.267366362537814)\n",
      "I (334.7885207524587, -62.267366362537814)\n",
      "    voltage in polar notation: (579.9311277892192, -42.001668891590306)\n",
      "        converting (430.9615135909112-388.0622202460663j) into polar to calculate with\n",
      "        converting (155.79258569051146-296.3309364063835j) into polar to calculate with\n",
      "    P = 579.93 * 334.79 * cos(-42.00 - -62.27) WARNING, if current enters at - should be -P\n",
      "        converting (430.9615135909112-388.0622202460663j) into polar to calculate with\n",
      "        converting (155.79258569051146-296.3309364063835j) into polar to calculate with\n",
      "    Q = 579.93 * 334.79 * sin(-42.00 - -62.27) WARNING, if current enters at - should be -Q\n",
      "P = 546406.3489346448 W\n",
      "Q = 201750.03652971506 var\n",
      "S = 582462.8532325733 VA\n",
      "    voltage in polar notation: (5356.616332039339, 4.154455159260359)\n",
      "        converting (5342.541178305346+388.0622202460663j) into polar to calculate with\n",
      "        converting (155.79258569051146-296.3309364063835j) into polar to calculate with\n",
      "    P = 5356.62 * 334.79 * cos(4.15 - -62.27) WARNING, if current enters at - should be -P\n",
      "        converting (5342.541178305346+388.0622202460663j) into polar to calculate with\n",
      "        converting (155.79258569051146-296.3309364063835j) into polar to calculate with\n",
      "    Q = 5356.62 * 334.79 * sin(4.15 - -62.27) WARNING, if current enters at - should be -Q\n",
      "P = 2152000.3896502927 W\n",
      "Q = 4930852.340573466 var\n",
      "S = 5380000.974125734 VA\n"
     ]
    }
   ],
   "source": [
    "def vermogens(U3f, impedances):\n",
    "    \n",
    "    U1f = U3f / sqrt(3)\n",
    "    I1f = current(U1f, sum(impedances))\n",
    "    print('I', car2pol(I1f))\n",
    "    for i in impedances:\n",
    "        v = voltage(I1f, i)\n",
    "        p = 3 * P(v, I1f)\n",
    "        q = 3 * Q(v, I1f)\n",
    "        s = S(p,q)\n",
    "        print(f'P = {p} W\\nQ = {q} var\\nS = {s} VA')\n",
    "vermogens(10000,(li,t))"
   ]
  },
  {
   "cell_type": "code",
   "execution_count": 34,
   "metadata": {},
   "outputs": [
    {
     "data": {
      "text/plain": [
       "'PYTHONPATH'"
      ]
     },
     "execution_count": 34,
     "metadata": {},
     "output_type": "execute_result"
    }
   ],
   "source": [
    "v"
   ]
  },
  {
   "cell_type": "code",
   "execution_count": 35,
   "metadata": {},
   "outputs": [
    {
     "ename": "AttributeError",
     "evalue": "'str' object has no attribute 'real'",
     "output_type": "error",
     "traceback": [
      "\u001b[1;31m---------------------------------------------------------------------------\u001b[0m",
      "\u001b[1;31mAttributeError\u001b[0m                            Traceback (most recent call last)",
      "\u001b[1;32md:\\Programmeren\\projects\\powercourse\\nets.ipynb Cell 50\u001b[0m in \u001b[0;36m1\n\u001b[1;32m----> <a href='vscode-notebook-cell:/d%3A/Programmeren/projects/powercourse/nets.ipynb#Y100sZmlsZQ%3D%3D?line=0'>1</a>\u001b[0m car2pol(v), car2pol(st)\n",
      "\u001b[1;32md:\\Programmeren\\projects\\powercourse\\nets.ipynb Cell 50\u001b[0m in \u001b[0;36m1\n\u001b[0;32m     <a href='vscode-notebook-cell:/d%3A/Programmeren/projects/powercourse/nets.ipynb#Y100sZmlsZQ%3D%3D?line=15'>16</a>\u001b[0m \u001b[39mdef\u001b[39;00m \u001b[39mcar2pol\u001b[39m(car):\n\u001b[1;32m---> <a href='vscode-notebook-cell:/d%3A/Programmeren/projects/powercourse/nets.ipynb#Y100sZmlsZQ%3D%3D?line=16'>17</a>\u001b[0m     x, y \u001b[39m=\u001b[39m car\u001b[39m.\u001b[39;49mreal, car\u001b[39m.\u001b[39mimag\n\u001b[0;32m     <a href='vscode-notebook-cell:/d%3A/Programmeren/projects/powercourse/nets.ipynb#Y100sZmlsZQ%3D%3D?line=17'>18</a>\u001b[0m     rho \u001b[39m=\u001b[39m np\u001b[39m.\u001b[39msqrt(x\u001b[39m*\u001b[39m\u001b[39m*\u001b[39m\u001b[39m2\u001b[39m \u001b[39m+\u001b[39m y\u001b[39m*\u001b[39m\u001b[39m*\u001b[39m\u001b[39m2\u001b[39m)\n\u001b[0;32m     <a href='vscode-notebook-cell:/d%3A/Programmeren/projects/powercourse/nets.ipynb#Y100sZmlsZQ%3D%3D?line=18'>19</a>\u001b[0m     phi \u001b[39m=\u001b[39m np\u001b[39m.\u001b[39marctan2(y, x)\n",
      "\u001b[1;31mAttributeError\u001b[0m: 'str' object has no attribute 'real'"
     ]
    }
   ],
   "source": [
    "car2pol(v), car2pol(st)"
   ]
  },
  {
   "cell_type": "code",
   "execution_count": null,
   "metadata": {},
   "outputs": [
    {
     "name": "stdout",
     "output_type": "stream",
     "text": [
      "        converting (226.42305123430185-2.589436427282053j) into polar to calculate with\n",
      "        converting (159.24626939042764-101.23063703053481j) into polar to calculate with\n",
      "    P = 226.44 * 188.70 * cos(-0.66 - -32.44) WARNING, if current enters at - should be -P\n",
      "        converting (226.42305123430185-2.589436427282053j) into polar to calculate with\n",
      "        converting (159.24626939042764-101.23063703053481j) into polar to calculate with\n",
      "    Q = 226.44 * 188.70 * sin(-0.66 - -32.44) WARNING, if current enters at - should be -Q\n"
     ]
    },
    {
     "data": {
      "text/plain": [
       "(108957.46953643221, 67525.77487193234)"
      ]
     },
     "execution_count": 68,
     "metadata": {},
     "output_type": "execute_result"
    }
   ],
   "source": [
    "p = P(v,st)*3\n",
    "q = Q(v,st)*3\n",
    "p,q\n"
   ]
  },
  {
   "attachments": {},
   "cell_type": "markdown",
   "metadata": {},
   "source": [
    "### Sandbox"
   ]
  },
  {
   "cell_type": "markdown",
   "metadata": {},
   "source": [
    "## Koppellijn"
   ]
  },
  {
   "cell_type": "code",
   "execution_count": null,
   "metadata": {},
   "outputs": [
    {
     "name": "stdout",
     "output_type": "stream",
     "text": [
      "-68564.01169989753\n"
     ]
    },
    {
     "data": {
      "text/plain": [
       "-182.4107431070233"
      ]
     },
     "execution_count": 124,
     "metadata": {},
     "output_type": "execute_result"
    }
   ],
   "source": [
    "def line_power(U1, U2, Xlijn, delta):\n",
    "    return U1 * U2 / Xlijn * math.sin(delta / 360 * 2 * math.pi)\n",
    "line_power(400,400,1.5,-40)\n",
    "\n",
    "def line_current(U1, U2, Xlijn, delta):\n",
    "    p = line_power(U1, U2, Xlijn, delta)\n",
    "    print(p)\n",
    "    return p / (U1 * math.cos(deg2rad(delta/2)))\n",
    "    \n",
    "line_current(400,400,1.5,-40)"
   ]
  },
  {
   "cell_type": "code",
   "execution_count": null,
   "metadata": {},
   "outputs": [
    {
     "name": "stdout",
     "output_type": "stream",
     "text": [
      "        converting (50, 30) into carthesian to calculate with\n",
      "    voltage in polar notation: (75.0, 120.0)\n",
      "Ux = (75.0, 120.0)\n",
      "U1 = (467.0385423067351, 7.994140685006319) --> Ux + U1\n",
      "        converting (462.5+64.9519052838329j) into polar to calculate with\n",
      "    P = 467.04 * 50.00 * cos(7.99 - 30.00) WARNING, if current enters at - should be -P\n",
      "P1 = -21650.635094610967\n",
      "    P = 500.00 * 50.00 * cos(0.00 - 30.00) WARNING, if current enters at - should be -P\n",
      "P2 = 21650.635094610967\n",
      "        converting (462.5+64.9519052838329j) into polar to calculate with\n",
      "    Q = 467.04 * 50.00 * sin(7.99 - 30.00) WARNING, if current enters at - should be -Q\n",
      "Q1 = 8750.0\n",
      "    Q = 500.00 * 50.00 * sin(0.00 - 30.00) WARNING, if current enters at - should be -Q\n",
      "Q2 = -12499.999999999998\n",
      "        converting (-37.49999999999999+64.9519052838329j) into polar to calculate with\n",
      "    Q = 75.00 * 50.00 * sin(120.00 - 30.00) WARNING, if current enters at - should be -Q\n",
      "Qx = 3750.0\n"
     ]
    }
   ],
   "source": [
    "def koppellijn(U2, I, angle, X): # U1, P1, P2, Q1, Q2\n",
    "    Ux = voltage((I, angle), complex(0,X))\n",
    "    print(f'Ux = {car2pol(Ux)}')\n",
    "    U1 = pol2car(U2,0) + Ux\n",
    "    print(f'U1 = {car2pol(U1)} --> Ux + U1')\n",
    "    P1 = -P(U1, (I, angle))\n",
    "    print(f'P1 = {P1}')\n",
    "    P2 = P((U2,0), (I, angle))\n",
    "    print(f'P2 = {P2}')\n",
    "    Q1 = -Q(U1, (I, angle))\n",
    "    print(f'Q1 = {Q1}')\n",
    "    Q2 = Q((U2,0), (I, angle))\n",
    "    print(f'Q2 = {Q2}')\n",
    "    Qx = Q(Ux, (I, angle))\n",
    "    print(f'Qx = {Qx}')\n"
   ]
  },
  {
   "cell_type": "code",
   "execution_count": null,
   "metadata": {},
   "outputs": [
    {
     "name": "stdout",
     "output_type": "stream",
     "text": [
      "        converting (400, 0) into carthesian to calculate with\n",
      "    current in polar notation: (133.33333333333334, -90.0)\n"
     ]
    },
    {
     "data": {
      "text/plain": [
       "-66.66666666666667j"
      ]
     },
     "execution_count": 89,
     "metadata": {},
     "output_type": "execute_result"
    }
   ],
   "source": [
    "current((400,0), complex(0,3))/2"
   ]
  },
  {
   "cell_type": "code",
   "execution_count": null,
   "metadata": {},
   "outputs": [
    {
     "data": {
      "text/plain": [
       "0.9396926207859084"
      ]
     },
     "execution_count": 101,
     "metadata": {},
     "output_type": "execute_result"
    }
   ],
   "source": [
    "math.cos(deg2rad(20))"
   ]
  },
  {
   "cell_type": "code",
   "execution_count": null,
   "metadata": {},
   "outputs": [
    {
     "data": {
      "text/plain": [
       "30.411081267125372"
      ]
     },
     "execution_count": 120,
     "metadata": {},
     "output_type": "execute_result"
    }
   ],
   "source": [
    "rad2deg(math.atan(135/230))"
   ]
  },
  {
   "cell_type": "code",
   "execution_count": null,
   "metadata": {},
   "outputs": [
    {
     "name": "stdout",
     "output_type": "stream",
     "text": [
      "        converting (180, 77) into carthesian to calculate with\n",
      "    voltage in polar notation: (270.0, 167.0)\n"
     ]
    },
    {
     "data": {
      "text/plain": [
       "(-263.0799174920135+60.73678467284359j)"
      ]
     },
     "execution_count": 119,
     "metadata": {},
     "output_type": "execute_result"
    }
   ],
   "source": [
    "voltage((180,77),complex(0,1.5))"
   ]
  },
  {
   "cell_type": "code",
   "execution_count": null,
   "metadata": {},
   "outputs": [
    {
     "data": {
      "text/plain": [
       "0.5307734972029069"
      ]
     },
     "execution_count": 133,
     "metadata": {},
     "output_type": "execute_result"
    }
   ],
   "source": [
    "math.atan(135/230)"
   ]
  },
  {
   "cell_type": "code",
   "execution_count": null,
   "metadata": {},
   "outputs": [],
   "source": []
  },
  {
   "cell_type": "code",
   "execution_count": null,
   "metadata": {},
   "outputs": [
    {
     "data": {
      "text/plain": [
       "35.9"
      ]
     },
     "execution_count": 128,
     "metadata": {},
     "output_type": "execute_result"
    }
   ],
   "source": [
    "71.8/2"
   ]
  },
  {
   "cell_type": "code",
   "execution_count": null,
   "metadata": {},
   "outputs": [
    {
     "name": "stdout",
     "output_type": "stream",
     "text": [
      "33502.34768376941\n"
     ]
    },
    {
     "data": {
      "text/plain": [
       "179.82085606564203"
      ]
     },
     "execution_count": 134,
     "metadata": {},
     "output_type": "execute_result"
    }
   ],
   "source": [
    "line_current(230,230,1.5,71.8)"
   ]
  },
  {
   "cell_type": "code",
   "execution_count": null,
   "metadata": {},
   "outputs": [
    {
     "name": "stdout",
     "output_type": "stream",
     "text": [
      "        converting (180, 30) into carthesian to calculate with\n",
      "    voltage in polar notation: (270.0, 120.0)\n",
      "Ux = (270.0, 120.0)\n",
      "U1 = (252.38858928247927, 67.88890305024783) --> Ux + U1\n",
      "        converting (95.00000000000003+233.82685902179844j) into polar to calculate with\n",
      "    P = 252.39 * 180.00 * cos(67.89 - 30.00) WARNING, if current enters at - should be -P\n",
      "P1 = -35853.45171667576\n",
      "    P = 230.00 * 180.00 * cos(0.00 - 30.00) WARNING, if current enters at - should be -P\n",
      "P2 = 35853.451716675765\n",
      "        converting (95.00000000000003+233.82685902179844j) into polar to calculate with\n",
      "    Q = 252.39 * 180.00 * sin(67.89 - 30.00) WARNING, if current enters at - should be -Q\n",
      "Q1 = -27900.00000000001\n",
      "    Q = 230.00 * 180.00 * sin(0.00 - 30.00) WARNING, if current enters at - should be -Q\n",
      "Q2 = -20699.999999999996\n",
      "        converting (-134.99999999999997+233.82685902179844j) into polar to calculate with\n",
      "    Q = 270.00 * 180.00 * sin(120.00 - 30.00) WARNING, if current enters at - should be -Q\n",
      "Qx = 48600.0\n"
     ]
    }
   ],
   "source": [
    "koppellijn(230,180, 30, 1.5)"
   ]
  },
  {
   "cell_type": "code",
   "execution_count": null,
   "metadata": {},
   "outputs": [],
   "source": []
  },
  {
   "cell_type": "markdown",
   "metadata": {},
   "source": [
    "### Sandbox"
   ]
  },
  {
   "cell_type": "code",
   "execution_count": null,
   "metadata": {},
   "outputs": [],
   "source": []
  },
  {
   "cell_type": "code",
   "execution_count": null,
   "metadata": {},
   "outputs": [],
   "source": []
  },
  {
   "cell_type": "markdown",
   "metadata": {},
   "source": [
    "## Primaire regeling"
   ]
  },
  {
   "cell_type": "code",
   "execution_count": null,
   "metadata": {},
   "outputs": [],
   "source": [
    "def freq_change(delta_p, knet):\n",
    "    return -delta_p / knet\n",
    "\n",
    "def primaire_regeling(freq_change, kgen):\n",
    "    return -kgen * freq_change"
   ]
  },
  {
   "cell_type": "code",
   "execution_count": null,
   "metadata": {},
   "outputs": [],
   "source": [
    "def secundaire_regeling(p_werkelijk, p_programma, ka, freq_change):\n",
    "    return (p_werkelijk - p_programma) / ka + freq_change\n",
    "\n",
    "    "
   ]
  },
  {
   "cell_type": "code",
   "execution_count": null,
   "metadata": {},
   "outputs": [],
   "source": []
  },
  {
   "cell_type": "markdown",
   "metadata": {},
   "source": [
    "### Sandbox"
   ]
  },
  {
   "cell_type": "code",
   "execution_count": null,
   "metadata": {},
   "outputs": [],
   "source": [
    "df = freq_change(200, 2000)\n"
   ]
  },
  {
   "cell_type": "code",
   "execution_count": null,
   "metadata": {},
   "outputs": [
    {
     "data": {
      "text/plain": [
       "(80.0, 120.0)"
      ]
     },
     "execution_count": 36,
     "metadata": {},
     "output_type": "execute_result"
    }
   ],
   "source": [
    "4* primaire_regeling(df, 200), 4 * primaire_regeling(df, 300)"
   ]
  },
  {
   "cell_type": "code",
   "execution_count": null,
   "metadata": {},
   "outputs": [
    {
     "data": {
      "text/plain": [
       "(-0.25, 0.0)"
      ]
     },
     "execution_count": 37,
     "metadata": {},
     "output_type": "execute_result"
    }
   ],
   "source": [
    "\n",
    "secundaire_regeling(-320,-200,800,df), secundaire_regeling(320,200,1200,df)"
   ]
  },
  {
   "cell_type": "code",
   "execution_count": null,
   "metadata": {},
   "outputs": [],
   "source": []
  }
 ],
 "metadata": {
  "kernelspec": {
   "display_name": ".aocenvpy311",
   "language": "python",
   "name": "python3"
  },
  "language_info": {
   "codemirror_mode": {
    "name": "ipython",
    "version": 3
   },
   "file_extension": ".py",
   "mimetype": "text/x-python",
   "name": "python",
   "nbconvert_exporter": "python",
   "pygments_lexer": "ipython3",
   "version": "3.11.0"
  },
  "orig_nbformat": 4
 },
 "nbformat": 4,
 "nbformat_minor": 2
}
