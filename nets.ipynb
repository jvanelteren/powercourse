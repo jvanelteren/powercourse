{
 "cells": [
  {
   "attachments": {},
   "cell_type": "markdown",
   "metadata": {},
   "source": [
    "## Basic formula"
   ]
  },
  {
   "cell_type": "code",
   "execution_count": 5,
   "metadata": {},
   "outputs": [],
   "source": [
    "from collections import namedtuple\n",
    "import math\n",
    "from math import sqrt\n",
    "import numpy as np\n",
    "\n",
    "import numpy as np\n",
    "import z3\n",
    "from z3 import *\n",
    "\n",
    "def car(real, imag):\n",
    "    return complex(real,imag)\n",
    "\n",
    "def pol(rho, phi):\n",
    "    return (rho, phi)\n",
    "\n",
    "def car2pol(car):\n",
    "    x, y = car.real, car.imag\n",
    "    rho = np.sqrt(x**2 + y**2)\n",
    "    phi = np.arctan2(y, x)\n",
    "    phi = phi / 2 / math.pi * 360\n",
    "    return(rho, phi)\n",
    "\n",
    "def pol2car(rho, phi):\n",
    "    phi = phi / 360 * 2 * math.pi\n",
    "    x = rho * np.cos(phi)\n",
    "    y = rho * np.sin(phi)\n",
    "    return complex(x, y)"
   ]
  },
  {
   "cell_type": "code",
   "execution_count": 6,
   "metadata": {},
   "outputs": [],
   "source": [
    "def checkcar(var):\n",
    "    if isinstance(var, tuple):\n",
    "        print(f'        converting {var} into carthesian to calculate with')\n",
    "        return pol2car(*var)\n",
    "    return var\n",
    "\n",
    "def checkpol(var):\n",
    "    if isinstance(var, complex):\n",
    "        print(f'        converting {var} into polar to calculate with')\n",
    "        return car2pol(var)\n",
    "    if isinstance(var, int):\n",
    "        print(f'        int found for {var} assuming angle = 0 for polar calculation')\n",
    "        return (var, 0)\n",
    "    return var\n",
    "\n",
    "def parallel(x1,x2):\n",
    "    return (x1*x2) / (x1 + x2)\n",
    "\n",
    "def current(voltage, resistance):\n",
    "    voltage = checkcar(voltage)\n",
    "    cur = voltage / resistance\n",
    "    print(f'    current in polar notation: {car2pol(cur)}')\n",
    "    return cur\n",
    "\n",
    "def voltage(current, resistance):\n",
    "    current = checkcar(current)\n",
    "    vol = current * resistance\n",
    "    print(f'    voltage in polar notation: {car2pol(vol)}')\n",
    "    return vol\n",
    "\n",
    "def deg2rad(deg):\n",
    "    return deg / 360 * 2 * math.pi\n",
    "\n",
    "def rad2deg(rad):\n",
    "    return rad / 2 / math.pi * 360\n",
    "\n",
    "\n",
    "def Q(voltage, current):\n",
    "    voltage = checkpol(voltage)\n",
    "    current = checkpol(current)\n",
    "    print(f'    Q = {voltage[0]:.2f} * {current[0]:.2f} * sin({voltage[1]:.2f} - {current[1]:.2f}) WARNING, if current enters at - should be -Q')\n",
    "    return voltage[0] * current[0] * math.sin(deg2rad(voltage[1] - current[1]))\n",
    "    \n",
    "def P(voltage, current):\n",
    "    voltage = checkpol(voltage)\n",
    "    current = checkpol(current)\n",
    "    # print(f'    U = {voltage}, I = {current}')\n",
    "    print(f'    P = {voltage[0]:.2f} * {current[0]:.2f} * cos({voltage[1]:.2f} - {current[1]:.2f}) WARNING, if current enters at - should be -P')\n",
    "    return voltage[0] * current[0] * math.cos(deg2rad(voltage[1] - current[1]))\n",
    "\n",
    "def S(P, Q):\n",
    "    return math.sqrt(P**2 + Q**2)\n",
    "\n"
   ]
  },
  {
   "cell_type": "code",
   "execution_count": 7,
   "metadata": {},
   "outputs": [],
   "source": [
    "def capacitor_resistance(capacity, frequency=50):\n",
    "    return -1 / (2*math.pi * frequency) / capacity\n",
    "\n",
    "def capacitor_capacity(resistance, frequency=50):\n",
    "    return 1 / (resistance * 2*math.pi * frequency)\n",
    "    \n",
    "def inductor_resistance(capacity, frequency=50):\n",
    "    return (2*math.pi * frequency) * capacity\n",
    "\n",
    "def inductor_capacity(resistance, frequency=50):\n",
    "    return resistance / (2*math.pi*frequency)"
   ]
  },
  {
   "attachments": {},
   "cell_type": "markdown",
   "metadata": {},
   "source": [
    "## Solver for complex equations"
   ]
  },
  {
   "cell_type": "code",
   "execution_count": 8,
   "metadata": {},
   "outputs": [],
   "source": [
    "def car2complexexpr(cart):\n",
    "    return ComplexExpr(cart.real, cart.imag)\n",
    "\n",
    "def pol2complexexpr(size, angle):\n",
    "    return car2complexexpr(pol2car(size, angle))\n",
    "\n",
    "def _to_complex(a):\n",
    "    if isinstance(a, ComplexExpr):\n",
    "        return a\n",
    "    else:\n",
    "        return ComplexExpr(a, RealVal(0))\n",
    "\n",
    "def _is_zero(a):\n",
    "    return (isinstance(a, int) and a == 0) or (is_rational_value(a) and a.numerator_as_long() == 0)\n",
    "\n",
    "class ComplexExpr:\n",
    "    def __init__(self, r, i):\n",
    "        self.r = r\n",
    "        self.i = i\n",
    "\n",
    "    def __add__(self, other):\n",
    "        other = _to_complex(other)\n",
    "        return ComplexExpr(self.r + other.r, self.i + other.i)\n",
    "\n",
    "    def __radd__(self, other):\n",
    "        other = _to_complex(other)\n",
    "        return ComplexExpr(other.r + self.r, other.i + self.i)\n",
    "\n",
    "    def __sub__(self, other):\n",
    "        other = _to_complex(other)\n",
    "        return ComplexExpr(self.r - other.r, self.i - other.i)\n",
    "\n",
    "    def __rsub__(self, other):\n",
    "        other = _to_complex(other)\n",
    "        return ComplexExpr(other.r - self.r, other.i - self.i)\n",
    "\n",
    "    def __mul__(self, other):\n",
    "        other = _to_complex(other)\n",
    "        return ComplexExpr(self.r*other.r - self.i*other.i, self.r*other.i + self.i*other.r)\n",
    "\n",
    "    def __mul__(self, other):\n",
    "        other = _to_complex(other)\n",
    "        return ComplexExpr(other.r*self.r - other.i*self.i, other.i*self.r + other.r*self.i)\n",
    "\n",
    "    def inv(self):\n",
    "        den = self.r*self.r + self.i*self.i\n",
    "        return ComplexExpr(self.r/den, -self.i/den)\n",
    "\n",
    "    def __div__(self, other):\n",
    "        inv_other = _to_complex(other).inv()\n",
    "        return self.__mul__(inv_other)\n",
    "\n",
    "    def __rdiv__(self, other):\n",
    "        other = _to_complex(other)\n",
    "        return self.inv().__mul__(other)\n",
    "\n",
    "    def __eq__(self, other):\n",
    "        other = _to_complex(other)\n",
    "        return And(self.r == other.r, self.i == other.i)\n",
    "\n",
    "    def __neq__(self, other):\n",
    "        return Not(self.__eq__(other))\n",
    "\n",
    "    def simplify(self):\n",
    "        return ComplexExpr(simplify(self.r), simplify(self.i))\n",
    "\n",
    "    def repr_i(self):\n",
    "        if is_rational_value(self.i):\n",
    "            return \"%s*I\" % self.i\n",
    "        else:\n",
    "            return \"(%s)*I\" % str(self.i)\n",
    "\n",
    "    def __repr__(self):\n",
    "        if _is_zero(self.i):\n",
    "            return str(self.r)\n",
    "        elif _is_zero(self.r):\n",
    "            return self.repr_i()\n",
    "        else:\n",
    "            return \"%s + %s\" % (self.r, self.repr_i())\n",
    "\n",
    "def Complex(a):\n",
    "    return ComplexExpr(Real('%s.r' % a), Real('%s.i' % a))\n",
    "# I = ComplexExpr(RealVal(0), RealVal(1))\n",
    "\n",
    "def evaluate_cexpr(m, e):\n",
    "    return ComplexExpr(m[e.r], m[e.i])\n",
    "\n",
    "def get_ans(m, var):\n",
    "    r = evaluate_cexpr(m, var).r\n",
    "    i = evaluate_cexpr(m, var).i\n",
    "    real = float(r.numerator_as_long())/float(r.denominator_as_long())\n",
    "    imag = float(i.numerator_as_long())/float(i.denominator_as_long())\n",
    "    return complex(real, imag)"
   ]
  },
  {
   "cell_type": "markdown",
   "metadata": {},
   "source": [
    "### Sandbox"
   ]
  },
  {
   "cell_type": "code",
   "execution_count": 9,
   "metadata": {},
   "outputs": [
    {
     "name": "stdout",
     "output_type": "stream",
     "text": [
      "(30.864750979992415, -35.21359368159654)\n",
      "(15.879783371533687, 85.75016285047698)\n",
      "(26.466305619222812, -4.249837149523023)\n"
     ]
    }
   ],
   "source": [
    "# template for AC nets\n",
    "I1 = Complex(\"x\")\n",
    "I2 = Complex(\"y\")\n",
    "I3 = Complex(\"z\")\n",
    "s = Tactic('qfnra-nlsat').solver()\n",
    "\n",
    "\n",
    "\n",
    "\n",
    "\n",
    "# s.add(ComplexExpr(cur.real, cur.imag) - I1 * ComplexExpr(8,4) - I2*ComplexExpr(0,-6) == 0)\n",
    "# s.add(I2 * ComplexExpr(0,-6) - ComplexExpr(cur2.real, cur2.imag) == 0)\n",
    "# s.add(I1 + I3 - I2 == 0)\n",
    "\n",
    "s.add(100-I1*ComplexExpr(0,6.28)-I3*ComplexExpr(0,-6)==0)\n",
    "s.add(I3*ComplexExpr(0,-6)+I2*10 == 0)\n",
    "s.add(I1 + I2 -I3 == 0)\n",
    "s.check()\n",
    "m = s.model()\n",
    "\n",
    "for var in [I1,I2, I3]:\n",
    "    print(car2pol(get_ans(m,var)))\n",
    "    "
   ]
  },
  {
   "cell_type": "code",
   "execution_count": 10,
   "metadata": {},
   "outputs": [
    {
     "data": {
      "text/plain": [
       "(4, -28, 32, -2, 34)"
      ]
     },
     "execution_count": 10,
     "metadata": {},
     "output_type": "execute_result"
    }
   ],
   "source": [
    "# template for DC nets\n",
    "I1 = Real('x')\n",
    "I2 = Real('y')\n",
    "I3 = Real('z')\n",
    "I4 = Real('r')\n",
    "I5 = Real('t')\n",
    "\n",
    "s = Tactic('qfnra-nlsat').solver()\n",
    "s.add(-10*I1-100-5*I2==0)\n",
    "s.add(5*I2 + 100 -20*I4 == 0)\n",
    "s.add(20*I4 + 40 == 0)\n",
    "\n",
    "s.add(I1 - I2 - I3 == 0)\n",
    "s.add(I3 - I4 - I5 == 0)\n",
    "    \n",
    "s.check()\n",
    "m = s.model()\n",
    "\n",
    "m.eval(I1), m.eval(I2), m.eval(I3),m.eval(I4),m.eval(I5)"
   ]
  },
  {
   "attachments": {},
   "cell_type": "markdown",
   "metadata": {},
   "source": [
    "## Transformers"
   ]
  },
  {
   "cell_type": "code",
   "execution_count": 11,
   "metadata": {},
   "outputs": [],
   "source": [
    "Power = namedtuple('Power', 'Watt VAR')\n",
    "\n",
    "def power(current, resistance):\n",
    "    if isinstance(resistance, complex):\n",
    "        return Power(power(current, resistance.real)[0], \n",
    "                     power(current, resistance.imag)[0])\n",
    "    else:\n",
    "        p = car2pol(current ** 2 * resistance)[0]\n",
    "        print(f'    using I2* R: {current}**2 {resistance} = {p}')\n",
    "        return Power(p,0)\n",
    "\n",
    "\n",
    "def trans(primaryvoltage, primaryresistance, secondaryresistance, ratio):\n",
    "    # bring everything to left side\n",
    "    primaryvoltage = checkcar(primaryvoltage)\n",
    "    res = primaryresistance + ratio ** 2 * secondaryresistance\n",
    "    print(f'Total reactance for source {res}')\n",
    "    Iprim = current(primaryvoltage, res)\n",
    "    Isec = Iprim * ratio\n",
    "    \n",
    "    Uprim = checkcar(primaryvoltage) - primaryresistance * Iprim\n",
    "    Usec  = Uprim / ratio\n",
    "    print(f'Transformer: \\nIp {car2pol(Iprim)}\\nIs {car2pol(Isec)}\\nUp {car2pol(Uprim)}\\nUs {car2pol(Usec)}')\n",
    "    print(f'Pprim {P(Uprim, Iprim)}W Qprim {Q(Uprim, Iprim)}VAR')\n",
    "    psource = P(primaryvoltage, Iprim)\n",
    "    qsource = Q(primaryvoltage, Iprim)\n",
    "    print(f'Powers on primary side Psource: {psource}, Qsource {qsource}')\n",
    "    print(f'Resistances on primary side: {power(Iprim, primaryresistance)}')\n",
    "    print(f'Resistances on secondary side: {power(Isec, secondaryresistance)}')\n",
    "    print(f'Efficiency transformer: {power(Isec, secondaryresistance).Watt} / {psource} = {power(Isec, secondaryresistance).Watt / psource}')"
   ]
  },
  {
   "attachments": {},
   "cell_type": "markdown",
   "metadata": {},
   "source": [
    "### Sandbox"
   ]
  },
  {
   "cell_type": "code",
   "execution_count": null,
   "metadata": {},
   "outputs": [],
   "source": []
  },
  {
   "cell_type": "code",
   "execution_count": null,
   "metadata": {},
   "outputs": [],
   "source": []
  },
  {
   "attachments": {},
   "cell_type": "markdown",
   "metadata": {},
   "source": [
    "## Asynchronous machines"
   ]
  },
  {
   "cell_type": "code",
   "execution_count": 13,
   "metadata": {},
   "outputs": [],
   "source": [
    "from math import sqrt\n",
    "def phase2linevoltage(phasevoltage):\n",
    "    return sqrt(3) * phasevoltage\n",
    "def line2phasevoltage(linevoltage):\n",
    "    return linevoltage / sqrt(3)\n",
    "line2phasevoltage(10000)\n",
    "\n",
    "def S3f(Ul, I):\n",
    "    return sqrt(3) * Ul * I\n",
    "\n",
    "def Pdriehoek(Pster):\n",
    "    return 3 * Pster"
   ]
  },
  {
   "cell_type": "code",
   "execution_count": 14,
   "metadata": {},
   "outputs": [],
   "source": [
    "def nullast(P,U,I):\n",
    "    S = U * I # schijnbaar vermogen\n",
    "    Q = (S**2 - P**2)**0.5 # blind vermogen\n",
    "    # nullasten staan parallel aan de bron dus P = U**2 / R gebruiken\n",
    "    Rij = U**2 / P  \n",
    "    Xmu = U**2 / Q\n",
    "    phi = rad2deg(math.acos((P / (U * I)))) # from formula P = U * I * cos(phi)\n",
    "    print(\n",
    "        'Nullast:\\n'\n",
    "        f'S = {S}\\n'\n",
    "        f'Q = {Q} : sqrt(S**2 - P**2) = sqrt({S**2} - {P**2})\\n'\n",
    "        f'phi = {phi} : rad2deg(acos((P / (U * I))))\\n'\n",
    "        f'Rij = {Rij} : U**2 / P\\n'\n",
    "        f'Xmu = {Xmu} : U**2 / Q\\n')\n",
    "    return Rij, Xmu\n",
    "\n",
    "\n",
    "def kortsluit(P,U,I):\n",
    "    S = U * I # schijnbaar vermogen\n",
    "    Q = (S**2 - P**2)**0.5 # blind vermogen\n",
    "    # nullasten staan in serie met bron dus P = I**2 * R gebruiken\n",
    "    Rk = P / I**2\n",
    "    Xk = Q / I**2\n",
    "    phi = rad2deg(math.acos((P / (U * I)))) # from formula P = U * I * cos(phi)\n",
    "    print(\n",
    "        'Kortsluit:\\n'\n",
    "        f'S = {S}\\n'\n",
    "        f'Q = {Q} : sqrt(S**2 - P**2) = sqrt({S**2} - {P**2})\\n'\n",
    "        f'phi = {phi} : rad2deg(acos((P / (U * I))))\\n'\n",
    "        f\"Rk = {Rk} : P / I ** 2. Note Rk = R1 + R'2\\n\"\n",
    "        f'Xk = {Xk} : Q / I ** 2\\n')\n",
    "    return Rk, Xk\n",
    "\n"
   ]
  },
  {
   "cell_type": "code",
   "execution_count": 25,
   "metadata": {},
   "outputs": [],
   "source": [
    "def slip(fnet, frotor):\n",
    "    # slip = 1, means rotor is stationary\n",
    "    # slip = 0, means fnet == frotor\n",
    "    # slip < 0, means machine is acting as generator\n",
    "    return (fnet - frotor) / fnet\n",
    "\n",
    "\n",
    "def slip2freq(slip, fnet=None):\n",
    "    if not fnet: fnet = 50\n",
    "    # slip = (fnet - frot) / fnet\n",
    "    return -(slip * fnet - fnet)\n"
   ]
  },
  {
   "cell_type": "code",
   "execution_count": 16,
   "metadata": {},
   "outputs": [],
   "source": [
    "def R2(Rk, ohmmeasured):\n",
    "    # vervangingsweerstand as berekenen bij bekend zijn van Rk vanuit kortsluitproef\n",
    "    return Rk - (ohmmeasured / 2)\n",
    "\n",
    "def Ras(R2, slip):\n",
    "    # vervangingsweerstand as berekenen inclusief slip\n",
    "    return R2 * (1-slip) / slip\n",
    "\n",
    "def Pas(I, R2, slip):\n",
    "    # asvermogen bepalen\n",
    "    return 3 * I**2 * Ras(R2, slip)\n",
    "\n",
    "def koppel(P, freq):\n",
    "    # P = w T\n",
    "    return P / (freq * 2 * math.pi)"
   ]
  },
  {
   "cell_type": "code",
   "execution_count": 26,
   "metadata": {},
   "outputs": [],
   "source": [
    "def Ras2slip(Ras, R2):\n",
    "    R = Ras / R2\n",
    "    return 1 / (R + 1)\n",
    "\n"
   ]
  },
  {
   "cell_type": "code",
   "execution_count": 18,
   "metadata": {},
   "outputs": [],
   "source": [
    "def asynchrone(voltage, Xk, Rk, R2, slip):\n",
    "    # gegeven vervangingsschema en een slip bepaal stroom, vermogens en rendement\n",
    "    # returns asvermogen\n",
    "    if isinstance(voltage, int):\n",
    "        voltage = (voltage, 0)\n",
    "    reactance = complex(Rk + Ras(R2, slip), Xk)\n",
    "    cur = checkpol(current(voltage, reactance))\n",
    "    print('Asynchronous machine')\n",
    "    print('Total reactance = ', reactance)\n",
    "    print(f'Current = {cur} (voltage / reactance)')\n",
    "    print('P = ', -3* P(voltage, cur))\n",
    "    print('Q = ', -3*Q(voltage, cur))\n",
    "    print('Pas = ', Pas(cur[0], R2, slip))\n",
    "    print('rendement bij slip > 0 (anders 1/x doen)', Pas(cur[0], R2, slip) / (3 * P(voltage, cur)))\n",
    "    return Pas(cur[0], R2, slip)"
   ]
  },
  {
   "cell_type": "markdown",
   "metadata": {},
   "source": [
    "### Sandbox"
   ]
  },
  {
   "cell_type": "code",
   "execution_count": null,
   "metadata": {},
   "outputs": [],
   "source": []
  },
  {
   "cell_type": "code",
   "execution_count": null,
   "metadata": {},
   "outputs": [],
   "source": []
  },
  {
   "cell_type": "code",
   "execution_count": null,
   "metadata": {},
   "outputs": [],
   "source": []
  },
  {
   "attachments": {},
   "cell_type": "markdown",
   "metadata": {},
   "source": [
    "## Synchnonous machines"
   ]
  },
  {
   "cell_type": "code",
   "execution_count": 19,
   "metadata": {},
   "outputs": [],
   "source": [
    "\n",
    "\n",
    "# def tas(slip, fnet):\n",
    "#     was = 2 * math.pi * fnet * (1-slip)\n",
    "#     print(slip)\n",
    "#     return p(slip) / was\n",
    "# s = np.linspace(-0.99,0.99,20)\n",
    "# fnet = 50\n",
    "# t = [tas(x, fnet) for x in s]"
   ]
  },
  {
   "cell_type": "code",
   "execution_count": 20,
   "metadata": {},
   "outputs": [
    {
     "name": "stdout",
     "output_type": "stream",
     "text": [
      "Bij een I2 van 4A wordt de nominale fasespanning gehaald van 230V\n",
      "Bij een I2 van 12A treedt een I1 op van 70A, dus bij I2 van 4A is I1 23.333333333333332A\n",
      "Hieruit volgt:\n",
      "X1 = 9.857142857142858 Ohm (230 / 23.333333333333332)\n",
      "Lambda = 57.5 (230 / 4)\n"
     ]
    },
    {
     "data": {
      "text/plain": [
       "9.857142857142858"
      ]
     },
     "execution_count": 20,
     "metadata": {},
     "output_type": "execute_result"
    }
   ],
   "source": [
    "def X1(Unom, I2nullast, I1kortsluit, I2kortsluit):\n",
    "    lamb = Unom / I2nullast\n",
    "    print(f'Bij een I2 van {I2nullast}A wordt de nominale fasespanning gehaald van {Unom}V')\n",
    "    I1nullast = I1kortsluit / I2kortsluit * I2nullast\n",
    "    print(f'Bij een I2 van {I2kortsluit}A treedt een I1 op van {I1kortsluit}A, dus bij I2 van {I2nullast}A is I1 {I1nullast}A')\n",
    "    X1 = Unom / I1nullast\n",
    "    print('Hieruit volgt:')\n",
    "    print(f'X1 = {X1} Ohm ({Unom} / {I1nullast})')\n",
    "    print(f'Lambda = {lamb} ({Unom} / {I2nullast})')\n",
    "    return X1\n",
    "\n",
    "X1(230, 4,70, 12)"
   ]
  },
  {
   "cell_type": "code",
   "execution_count": 21,
   "metadata": {},
   "outputs": [],
   "source": [
    "# capacitive behavior = phase angle current > phase angle voltage, like a balloon, where flow goes before size\n",
    "# inductive behavior = phase angle voltage > current, like a train where voltage goes before motion"
   ]
  },
  {
   "cell_type": "code",
   "execution_count": 27,
   "metadata": {},
   "outputs": [],
   "source": [
    "def behavior(phi):\n",
    "    phi = (phi + 360) % 360\n",
    "    angle_induccapa = 'capacitive' if phi <= 180 else 'inductive'\n",
    "    angle_motorgenerator = 'generator' if 90 <= phi <= 270 else 'motor'\n",
    "    return angle_induccapa, angle_motorgenerator\n",
    "\n",
    "def cosphi_to_options(cosphi):\n",
    "    # if you don't know if cosphi is for Inet or I1, just enter the cos phi and it will explain how it behaves\n",
    "    phi = math.acos(cosphi) / 2 / math.pi * 360\n",
    "    print(f'phi = {phi}, but could also have been {-phi} or with 180 degrees offset if we looked the other way')\n",
    "    for p in (phi, -phi):\n",
    "        for reverse in (0,180):\n",
    "            newphi =  p + reverse\n",
    "            print(f'{newphi} leads to {behavior(newphi)}')"
   ]
  },
  {
   "cell_type": "code",
   "execution_count": 28,
   "metadata": {},
   "outputs": [],
   "source": [
    "def syn_net(U1, I1, X1, l = None):\n",
    "    UX1 = voltage(I1, complex(0,X1)) \n",
    "    print(f'Voltage over X1 {car2pol(UX1)}')\n",
    "    U12 = car2pol(pol2car(*U1) - UX1) # Kirchhoff to determine U12\n",
    "    print(f'U12 = {U12} = Unet - UX1 --> {U1} - {car2pol(UX1)}')\n",
    "    print(f'Pas is {3 * P(U12, I1)}')\n",
    "    QX1 = 3 * I1[0]**2 * X1\n",
    "    Qas = 3 * Q(U12, I1)\n",
    "    print(f'Qas = {Qas}')\n",
    "    print(f'QX1 = {QX1} (3 * I**2 * X1)')\n",
    "    print(f'Pnet = {-3 * P(U1, I1)}')\n",
    "    print(f'Qnet = {-3 * Q(U1, I1)}')\n",
    "    machineQ = QX1 + Qas\n",
    "    induccapa = 'inductive' if machineQ > 0 else 'capacitive'\n",
    "    print(f'machine is operating {machineQ}, therefore {induccapa}')\n",
    "    delta = U12[1] - U1[1]\n",
    "    motorgenerator = 'generator' if delta >= 0 else 'motor'\n",
    "    print(f'lasthoek delta = {delta}, therefore {motorgenerator} behavior')\n",
    "    phi = I1[1] % 360\n",
    "    print(f'asserting behavior phase angle for I1 (phi): {phi}. 0-180=cap, 180-360=ind, 0-90 & 270-360 = motor, 90-270=generator')\n",
    "    angle_induccapa = 'capacitive' if phi <= 180 else 'inductive'\n",
    "    angle_motorgenerator = 'generator' if 90 <= phi <= 270 else 'motor'\n",
    "    assert induccapa == angle_induccapa and motorgenerator == angle_motorgenerator\n",
    "    \n",
    "    if l:\n",
    "        I2 = U12[0] / l\n",
    "        print(f'I2 is {I2}A')\n",
    "    return U12\n"
   ]
  },
  {
   "cell_type": "code",
   "execution_count": 29,
   "metadata": {},
   "outputs": [],
   "source": [
    "def syn_island(resistance_island, U1, X1, l = None):\n",
    "    Iz = car2pol(current(U1, resistance_island)) # calculate Iz from U1 and resistance\n",
    "    I1 = (Iz[0], (Iz[1] + 180) % 360) # I1 == Iz, but reverse phase angle\n",
    "    \n",
    "    UX1 = voltage(I1, complex(0,X1)) \n",
    "    print(f'Voltage over X1 {car2pol(UX1)}')\n",
    "    U12 = car2pol(pol2car(*U1) - UX1) # Kirchhoff to determine U12\n",
    "    print(f'U12 = {U12} = Unet - UX1 --> {U1} - {car2pol(UX1)}')\n",
    "    print(f'Pas is {3 * P(U12, I1)}')\n",
    "    QX1 = 3 * I1[0]**2 * X1\n",
    "    Qas = 3 * Q(U12, I1)\n",
    "    print(f'Qas = {Qas}')\n",
    "    print(f'QX1 = {QX1} (3 * I**2 * X1)')\n",
    "    print(f'Pnet = {-3 * P(U1, I1)}')\n",
    "    print(f'Qnet = {-3 * Q(U1, I1)}')\n",
    "    machineQ = QX1 + Qas\n",
    "    induccapa = 'inductive' if machineQ > 0 else 'capacitive'\n",
    "    print(f'machine is operating {machineQ}, therefore {induccapa}')\n",
    "    delta = U12[1] - U1[1]\n",
    "    motorgenerator = 'generator' if delta >= 0 else 'motor'\n",
    "    print(f'lasthoek delta = {delta}, therefore {motorgenerator} behavior')\n",
    "    phi = I1[1] % 360\n",
    "    print(f'asserting behavior phase angle for I1 (phi): {phi}. 0-180=cap, 180-360=ind, 0-90 & 270-360 = motor, 90-270=generator')\n",
    "    assert behavior(phi) == (induccapa, motorgenerator) \n",
    "    \n",
    "    if l:\n",
    "        I2 = U12[0] / l\n",
    "        print(f'I2 is {I2}A')\n",
    "    return U12\n"
   ]
  },
  {
   "attachments": {},
   "cell_type": "markdown",
   "metadata": {},
   "source": [
    "### Sandbox"
   ]
  },
  {
   "cell_type": "code",
   "execution_count": null,
   "metadata": {},
   "outputs": [],
   "source": []
  },
  {
   "cell_type": "code",
   "execution_count": null,
   "metadata": {},
   "outputs": [],
   "source": []
  },
  {
   "cell_type": "code",
   "execution_count": null,
   "metadata": {},
   "outputs": [],
   "source": []
  },
  {
   "cell_type": "code",
   "execution_count": null,
   "metadata": {},
   "outputs": [],
   "source": []
  }
 ],
 "metadata": {
  "kernelspec": {
   "display_name": ".aocenvpy311",
   "language": "python",
   "name": "python3"
  },
  "language_info": {
   "codemirror_mode": {
    "name": "ipython",
    "version": 3
   },
   "file_extension": ".py",
   "mimetype": "text/x-python",
   "name": "python",
   "nbconvert_exporter": "python",
   "pygments_lexer": "ipython3",
   "version": "3.11.0"
  },
  "orig_nbformat": 4
 },
 "nbformat": 4,
 "nbformat_minor": 2
}
