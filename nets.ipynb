{
 "cells": [
  {
   "cell_type": "code",
   "execution_count": 1,
   "metadata": {},
   "outputs": [],
   "source": [
    "import math\n",
    "import numpy as np\n",
    "import z3\n",
    "from z3 import *\n",
    "\n",
    "def car(real, imag):\n",
    "    return complex(real,imag)\n",
    "\n",
    "def pol(rho, phi):\n",
    "    return (rho, phi)\n",
    "\n",
    "def car2pol(car):\n",
    "    x, y = car.real, car.imag\n",
    "    rho = np.sqrt(x**2 + y**2)\n",
    "    phi = np.arctan2(y, x)\n",
    "    phi = phi / 2 / math.pi * 360\n",
    "    return(rho, phi)\n",
    "\n",
    "def pol2car(rho, phi):\n",
    "    phi = phi / 360 * 2 * math.pi\n",
    "    x = rho * np.cos(phi)\n",
    "    y = rho * np.sin(phi)\n",
    "    return complex(x, y)"
   ]
  },
  {
   "cell_type": "code",
   "execution_count": 45,
   "metadata": {},
   "outputs": [],
   "source": [
    "def checkcar(var):\n",
    "    if isinstance(var, tuple):\n",
    "        print('converting {var} into carthesian to calculate with')\n",
    "        return pol2car(*var)\n",
    "    return var\n",
    "\n",
    "def checkpol(var):\n",
    "    if isinstance(var, complex):\n",
    "        print('converting {var} into polar to calculate with')\n",
    "        return car2pol(var)\n",
    "    return var\n",
    "\n",
    "def parallel(x1,x2):\n",
    "    return (x1*x2) / (x1 + x2)\n",
    "\n",
    "def current(voltage, resistance):\n",
    "    voltage = checkcar(voltage)\n",
    "    cur = voltage / resistance\n",
    "    print('current in polar notation', car2pol(cur))\n",
    "    return cur\n",
    "\n",
    "def voltage(current, resistance):\n",
    "    current = checkcar(current)\n",
    "    vol = current * resistance\n",
    "    print('voltage in polar notation', car2pol(vol))\n",
    "    return vol\n",
    "\n",
    "def deg2rad(deg):\n",
    "    return deg / 360 * 2 * math.pi\n",
    "def Q(voltage, current):\n",
    "    voltage = checkpol(voltage)\n",
    "    current = checkpol(current)\n",
    "    print(f'  {voltage[0]} * {current[0]} * sin({voltage[1]} - {current[1]}) WARNING, make sure to multiply with -1 if the current enters at -')\n",
    "    return voltage[0] * current[0] * math.sin(deg2rad(voltage[1] - current[1]))\n",
    "    \n",
    "def P(voltage, current):\n",
    "    voltage = checkpol(voltage)\n",
    "    current = checkpol(current)\n",
    "    print(f'  {voltage[0]} * {current[0]} * cos({voltage[1]} - {current[1]}) WARNING, make sure to multiply with -1 if the current enters at -')\n",
    "    return voltage[0] * current[0] * math.cos(deg2rad(voltage[1] - current[1]))\n",
    "\n",
    "def S(P, Q):\n",
    "    return math.sqrt(P**2 + Q**2)\n",
    "\n"
   ]
  },
  {
   "cell_type": "code",
   "execution_count": 3,
   "metadata": {},
   "outputs": [],
   "source": [
    "def capacitor_resistance(capacity, frequency=50):\n",
    "    return -1 / (2*math.pi * frequency) / capacity\n",
    "\n",
    "def capacitor_capacity(resistance, frequency=50):\n",
    "    return 1 / (resistance * 2*math.pi * frequency)\n",
    "    \n",
    "def inductor_resistance(capacity, frequency=50):\n",
    "    return (2*math.pi * frequency) * capacity\n",
    "\n",
    "def inductor_capacity(resistance, frequency=50):\n",
    "    return resistance / (2*math.pi*frequency)"
   ]
  },
  {
   "cell_type": "code",
   "execution_count": 4,
   "metadata": {},
   "outputs": [],
   "source": [
    "def car2complexexpr(cart):\n",
    "    return ComplexExpr(cart.real, cart.imag)\n",
    "\n",
    "def pol2complexexpr(size, angle):\n",
    "    return car2complexexpr(pol2car(size, angle))\n",
    "\n",
    "def _to_complex(a):\n",
    "    if isinstance(a, ComplexExpr):\n",
    "        return a\n",
    "    else:\n",
    "        return ComplexExpr(a, RealVal(0))\n",
    "\n",
    "def _is_zero(a):\n",
    "    return (isinstance(a, int) and a == 0) or (is_rational_value(a) and a.numerator_as_long() == 0)\n",
    "\n",
    "class ComplexExpr:\n",
    "    def __init__(self, r, i):\n",
    "        self.r = r\n",
    "        self.i = i\n",
    "\n",
    "    def __add__(self, other):\n",
    "        other = _to_complex(other)\n",
    "        return ComplexExpr(self.r + other.r, self.i + other.i)\n",
    "\n",
    "    def __radd__(self, other):\n",
    "        other = _to_complex(other)\n",
    "        return ComplexExpr(other.r + self.r, other.i + self.i)\n",
    "\n",
    "    def __sub__(self, other):\n",
    "        other = _to_complex(other)\n",
    "        return ComplexExpr(self.r - other.r, self.i - other.i)\n",
    "\n",
    "    def __rsub__(self, other):\n",
    "        other = _to_complex(other)\n",
    "        return ComplexExpr(other.r - self.r, other.i - self.i)\n",
    "\n",
    "    def __mul__(self, other):\n",
    "        other = _to_complex(other)\n",
    "        return ComplexExpr(self.r*other.r - self.i*other.i, self.r*other.i + self.i*other.r)\n",
    "\n",
    "    def __mul__(self, other):\n",
    "        other = _to_complex(other)\n",
    "        return ComplexExpr(other.r*self.r - other.i*self.i, other.i*self.r + other.r*self.i)\n",
    "\n",
    "    def inv(self):\n",
    "        den = self.r*self.r + self.i*self.i\n",
    "        return ComplexExpr(self.r/den, -self.i/den)\n",
    "\n",
    "    def __div__(self, other):\n",
    "        inv_other = _to_complex(other).inv()\n",
    "        return self.__mul__(inv_other)\n",
    "\n",
    "    def __rdiv__(self, other):\n",
    "        other = _to_complex(other)\n",
    "        return self.inv().__mul__(other)\n",
    "\n",
    "    def __eq__(self, other):\n",
    "        other = _to_complex(other)\n",
    "        return And(self.r == other.r, self.i == other.i)\n",
    "\n",
    "    def __neq__(self, other):\n",
    "        return Not(self.__eq__(other))\n",
    "\n",
    "    def simplify(self):\n",
    "        return ComplexExpr(simplify(self.r), simplify(self.i))\n",
    "\n",
    "    def repr_i(self):\n",
    "        if is_rational_value(self.i):\n",
    "            return \"%s*I\" % self.i\n",
    "        else:\n",
    "            return \"(%s)*I\" % str(self.i)\n",
    "\n",
    "    def __repr__(self):\n",
    "        if _is_zero(self.i):\n",
    "            return str(self.r)\n",
    "        elif _is_zero(self.r):\n",
    "            return self.repr_i()\n",
    "        else:\n",
    "            return \"%s + %s\" % (self.r, self.repr_i())\n",
    "\n",
    "def Complex(a):\n",
    "    return ComplexExpr(Real('%s.r' % a), Real('%s.i' % a))\n",
    "# I = ComplexExpr(RealVal(0), RealVal(1))\n",
    "\n",
    "def evaluate_cexpr(m, e):\n",
    "    return ComplexExpr(m[e.r], m[e.i])\n",
    "\n",
    "def get_ans(m, var):\n",
    "    r = evaluate_cexpr(m, var).r\n",
    "    i = evaluate_cexpr(m, var).i\n",
    "    real = float(r.numerator_as_long())/float(r.denominator_as_long())\n",
    "    imag = float(i.numerator_as_long())/float(i.denominator_as_long())\n",
    "    return complex(real, imag)"
   ]
  },
  {
   "cell_type": "code",
   "execution_count": 5,
   "metadata": {},
   "outputs": [],
   "source": [
    "indres = inductor_resistance(20/1000)\n",
    "capres = capacitor_resistance(0.53/1000)\n"
   ]
  },
  {
   "cell_type": "code",
   "execution_count": 6,
   "metadata": {},
   "outputs": [],
   "source": [
    "indres = ComplexExpr(0,indres)\n",
    "capres = ComplexExpr(0,capres)"
   ]
  },
  {
   "cell_type": "code",
   "execution_count": 7,
   "metadata": {},
   "outputs": [
    {
     "data": {
      "text/plain": [
       "(-6.005846909128126)*I"
      ]
     },
     "execution_count": 7,
     "metadata": {},
     "output_type": "execute_result"
    }
   ],
   "source": [
    "capres"
   ]
  },
  {
   "cell_type": "code",
   "execution_count": 8,
   "metadata": {},
   "outputs": [
    {
     "name": "stdout",
     "output_type": "stream",
     "text": [
      "(30.828871213696655, -35.191760224510716)\n",
      "(15.872684148367618, 85.79662254309166)\n",
      "(26.42871919402932, -4.203377456908344)\n"
     ]
    }
   ],
   "source": [
    "# template for AC nets\n",
    "I1 = Complex(\"x\")\n",
    "I2 = Complex(\"y\")\n",
    "I3 = Complex(\"z\")\n",
    "s = Tactic('qfnra-nlsat').solver()\n",
    "\n",
    "s.add(pol2complexexpr(100,0) - I1 * indres - I3 * capres == 0)\n",
    "s.add(I3 * capres + ComplexExpr(10,0) * I2 == 0)\n",
    "s.add(I1 + I2 - I3 == 0)\n",
    "\n",
    "\n",
    "\n",
    "# s.add(ComplexExpr(cur.real, cur.imag) - I1 * ComplexExpr(8,4) - I2*ComplexExpr(0,-6) == 0)\n",
    "# s.add(I2 * ComplexExpr(0,-6) - ComplexExpr(cur2.real, cur2.imag) == 0)\n",
    "# s.add(I1 + I3 - I2 == 0)\n",
    "\n",
    "# s.add(100-I1*ComplexExpr(0,6.28)-I3*ComplexExpr(0,-6)==0)\n",
    "# s.add(I3*ComplexExpr(0,-6)+I2*10 == 0)\n",
    "# s.add(I1 + I2 -I3 == 0)\n",
    "s.check()\n",
    "m = s.model()\n",
    "\n",
    "for var in [I1,I2, I3]:\n",
    "    print(car2pol(get_ans(m,var)))\n",
    "    "
   ]
  },
  {
   "cell_type": "code",
   "execution_count": 9,
   "metadata": {},
   "outputs": [
    {
     "name": "stdout",
     "output_type": "stream",
     "text": [
      "100 * 30.828871213696655 * cos(0 - -35.191760224510716)\n",
      "WARNING, make sure to multiply with - if the current enters at - of source\n",
      "100 * 30.828871213696655 * sin(0 - -35.191760224510716)\n",
      "WARNING, make sure to multiply with - if the current enters at - of source\n",
      "100 * 30.828871213696655 * cos(0 - -35.191760224510716)\n",
      "WARNING, make sure to multiply with - if the current enters at - of source\n",
      "100 * 30.828871213696655 * sin(0 - -35.191760224510716)\n",
      "WARNING, make sure to multiply with - if the current enters at - of source\n"
     ]
    },
    {
     "data": {
      "text/plain": [
       "(46.785460220138354, -48.78082103360182)"
      ]
     },
     "execution_count": 9,
     "metadata": {},
     "output_type": "execute_result"
    }
   ],
   "source": [
    "I1 = (30.828871213696655, -35.191760224510716)\n",
    "I2 = (15.872684148367618, 85.79662254309166)\n",
    "I3 = (26.42871919402932, -4.203377456908344)\n",
    "-P((100,0), I1), -Q((100,0), I1), S(-P((100,0), I1), -Q((100,0), I1))\n",
    "car2pol(complex(*I1))"
   ]
  },
  {
   "cell_type": "code",
   "execution_count": 10,
   "metadata": {},
   "outputs": [
    {
     "data": {
      "text/plain": [
       "(4, -28, 32, -2, 34)"
      ]
     },
     "execution_count": 10,
     "metadata": {},
     "output_type": "execute_result"
    }
   ],
   "source": [
    "# template for DC nets\n",
    "I1 = Real('x')\n",
    "I2 = Real('y')\n",
    "I3 = Real('z')\n",
    "I4 = Real('r')\n",
    "I5 = Real('t')\n",
    "\n",
    "s = Tactic('qfnra-nlsat').solver()\n",
    "s.add(-10*I1-100-5*I2==0)\n",
    "s.add(5*I2 + 100 -20*I4 == 0)\n",
    "s.add(20*I4 + 40 == 0)\n",
    "\n",
    "s.add(I1 - I2 - I3 == 0)\n",
    "s.add(I3 - I4 - I5 == 0)\n",
    "    \n",
    "s.check()\n",
    "m = s.model()\n",
    "\n",
    "m.eval(I1), m.eval(I2), m.eval(I3),m.eval(I4),m.eval(I5)"
   ]
  },
  {
   "cell_type": "code",
   "execution_count": 11,
   "metadata": {},
   "outputs": [
    {
     "data": {
      "text/plain": [
       "0.03183098861837907"
      ]
     },
     "execution_count": 11,
     "metadata": {},
     "output_type": "execute_result"
    }
   ],
   "source": [
    "inductor_capacity(10)"
   ]
  },
  {
   "cell_type": "code",
   "execution_count": 12,
   "metadata": {},
   "outputs": [
    {
     "data": {
      "text/plain": [
       "0.0006366197723675814"
      ]
     },
     "execution_count": 12,
     "metadata": {},
     "output_type": "execute_result"
    }
   ],
   "source": [
    "capacitor_capacity(5)"
   ]
  },
  {
   "cell_type": "code",
   "execution_count": 13,
   "metadata": {},
   "outputs": [
    {
     "data": {
      "text/html": [
       "-76"
      ],
      "text/plain": [
       "-76"
      ]
     },
     "execution_count": 13,
     "metadata": {},
     "output_type": "execute_result"
    }
   ],
   "source": [
    "# template for DC nets\n",
    "R = Real('x')\n",
    "I2 = Real('y')\n",
    "I3 = Real('z')\n",
    "I4 = Real('r')\n",
    "I5 = Real('t')\n",
    "\n",
    "s = Tactic('qfnra-nlsat').solver()\n",
    "s.add(40 == (60 * (16+R)) / (60 + (16+R)))\n",
    "    \n",
    "s.check()\n",
    "m = s.model()\n",
    "\n",
    "m.eval(R)"
   ]
  },
  {
   "cell_type": "code",
   "execution_count": 14,
   "metadata": {},
   "outputs": [
    {
     "name": "stdout",
     "output_type": "stream",
     "text": [
      "100 * 17 * sin(0 - -72.1)\n",
      "WARNING, make sure to multiply with - if the current enters at - of source\n"
     ]
    },
    {
     "data": {
      "text/plain": [
       "1617.7104865950448"
      ]
     },
     "execution_count": 14,
     "metadata": {},
     "output_type": "execute_result"
    }
   ],
   "source": [
    "Q((100,0),(17,-72.1))"
   ]
  },
  {
   "cell_type": "code",
   "execution_count": 15,
   "metadata": {},
   "outputs": [
    {
     "name": "stdout",
     "output_type": "stream",
     "text": [
      "50 * 6.5 * sin(30 - 36.5)\n",
      "WARNING, make sure to multiply with - if the current enters at - of source\n"
     ]
    },
    {
     "data": {
      "text/plain": [
       "-36.79104447456968"
      ]
     },
     "execution_count": 15,
     "metadata": {},
     "output_type": "execute_result"
    }
   ],
   "source": [
    "Q((50,30),(6.5,36.5))"
   ]
  },
  {
   "cell_type": "code",
   "execution_count": 16,
   "metadata": {},
   "outputs": [
    {
     "data": {
      "text/plain": [
       "(80.5, -139.50000000000003)"
      ]
     },
     "execution_count": 16,
     "metadata": {},
     "output_type": "execute_result"
    }
   ],
   "source": [
    "car2pol(pol2car((16.1),-49.5)*-5j)"
   ]
  },
  {
   "cell_type": "code",
   "execution_count": 17,
   "metadata": {},
   "outputs": [
    {
     "data": {
      "text/plain": [
       "(6.499125326897812, -143.51973203948765)"
      ]
     },
     "execution_count": 17,
     "metadata": {},
     "output_type": "execute_result"
    }
   ],
   "source": [
    "car2pol((pol2car((16.1),-49.5)*-5j - pol2car(50,30))/20)"
   ]
  },
  {
   "cell_type": "code",
   "execution_count": 72,
   "metadata": {},
   "outputs": [
    {
     "name": "stdout",
     "output_type": "stream",
     "text": [
      "converting {var} into carthesian to calculate with\n",
      "current in polar notation (27.735009811261456, 33.6900675259798)\n",
      "Outcomes for transformer: \n",
      "Ip (27.735009811261456, 33.6900675259798)\n",
      "Is (2.7735009811261455, 33.6900675259798)\n",
      "Up (62.017367294604234, -29.744881296942225)\n",
      "Us (620.1736729460423, -29.74488129694223)\n",
      "converting {var} into polar to calculate with\n",
      "converting {var} into polar to calculate with\n",
      "  100.0 * 27.735009811261456 * cos(0.0 - 33.6900675259798) WARNING, make sure to multiply with -1 if the current enters at -\n",
      "converting {var} into polar to calculate with\n",
      "converting {var} into polar to calculate with\n",
      "  100.0 * 27.735009811261456 * sin(0.0 - 33.6900675259798) WARNING, make sure to multiply with -1 if the current enters at -\n",
      "Outcomes for powers on primary side\n",
      "Psource 2307.6923076923076, Qsource-1538.4615384615388\n",
      "\n",
      "Outcomes for resistances on primary side\n",
      "P Power(Watt=1538.4615384615383, VAR=0)\n",
      "\n",
      "Outcomes for resistances on secondary side\n",
      "P Power(Watt=769.2307692307692, VAR=1538.4615384615383)\n",
      "\n"
     ]
    }
   ],
   "source": [
    "from collections import namedtuple\n",
    "Power = namedtuple('Power', 'Watt VAR')\n",
    "\n",
    "def power(current, resistance):\n",
    "    if isinstance(resistance, complex):\n",
    "        return Power(power(current, resistance.real)[0], \n",
    "                     power(current, resistance.imag)[0])\n",
    "    else:\n",
    "        return Power(car2pol(current ** 2 * resistance)[0],0)\n",
    "\n",
    "\n",
    "def trans(primaryvoltage, primaryresistance, secondaryresistance, ratio):\n",
    "    # bring everything to left side\n",
    "    primaryvoltage = checkcar(primaryvoltage)\n",
    "    res = primaryresistance + ratio ** 2 * secondaryresistance\n",
    "    Iprim = current(primaryvoltage, res)\n",
    "    Isec = Iprim * ratio\n",
    "    \n",
    "    Uprim = checkcar(primaryvoltage) - primaryresistance * Iprim\n",
    "    Usec  = Uprim / ratio\n",
    "    print(f'Outcomes for transformer: \\nIp {car2pol(Iprim)}\\nIs {car2pol(Isec)}\\nUp {car2pol(Uprim)}\\nUs {car2pol(Usec)}')\n",
    "    print(f'Outcomes for powers on primary side\\nPsource {P(primaryvoltage, Iprim)}, Qsource{Q(primaryvoltage, Iprim)}\\n')\n",
    "    print(f'Outcomes for resistances on primary side\\nP {power(Iprim, primaryresistance)}\\n')\n",
    "    print(f'Outcomes for resistances on secondary side\\nP {power(Isec, secondaryresistance)}\\n')\n",
    "\n",
    "trans((100,0), 2, (100-200j), 0.1)"
   ]
  },
  {
   "cell_type": "code",
   "execution_count": 73,
   "metadata": {},
   "outputs": [
    {
     "name": "stdout",
     "output_type": "stream",
     "text": [
      "converting {var} into carthesian to calculate with\n",
      "current in polar notation (100.0, -36.86989764584402)\n",
      "Outcomes for transformer: \n",
      "Ip (100.0, -36.86989764584402)\n",
      "Is (200.0, -36.86989764584402)\n",
      "Up (8000.0, -36.86989764584402)\n",
      "Us (4000.0, -36.86989764584402)\n",
      "converting {var} into polar to calculate with\n",
      "converting {var} into polar to calculate with\n",
      "  10000.0 * 100.0 * cos(0.0 - -36.86989764584402) WARNING, make sure to multiply with -1 if the current enters at -\n",
      "converting {var} into polar to calculate with\n",
      "converting {var} into polar to calculate with\n",
      "  10000.0 * 100.0 * sin(0.0 - -36.86989764584402) WARNING, make sure to multiply with -1 if the current enters at -\n",
      "Outcomes for powers on primary side\n",
      "Psource 800000.0, Qsource600000.0\n",
      "\n",
      "Outcomes for resistances on primary side\n",
      "P Power(Watt=0.0, VAR=600000.0)\n",
      "\n",
      "Outcomes for resistances on secondary side\n",
      "P Power(Watt=800000.0, VAR=0)\n",
      "\n"
     ]
    }
   ],
   "source": [
    "trans((10000,0), 60j, 20, 2)\n"
   ]
  },
  {
   "cell_type": "code",
   "execution_count": 74,
   "metadata": {},
   "outputs": [
    {
     "name": "stdout",
     "output_type": "stream",
     "text": [
      "converting {var} into carthesian to calculate with\n",
      "current in polar notation (1.0, 0.0)\n",
      "Outcomes for transformer: \n",
      "Ip (1.0, 0.0)\n",
      "Is (4.0, 0.0)\n",
      "Up (80.0, 0.0)\n",
      "Us (20.0, 0.0)\n",
      "converting {var} into polar to calculate with\n",
      "converting {var} into polar to calculate with\n",
      "  100.0 * 1.0 * cos(0.0 - 0.0) WARNING, make sure to multiply with -1 if the current enters at -\n",
      "converting {var} into polar to calculate with\n",
      "converting {var} into polar to calculate with\n",
      "  100.0 * 1.0 * sin(0.0 - 0.0) WARNING, make sure to multiply with -1 if the current enters at -\n",
      "Outcomes for powers on primary side\n",
      "Psource 100.0, Qsource0.0\n",
      "\n",
      "Outcomes for resistances on primary side\n",
      "P Power(Watt=20.0, VAR=0)\n",
      "\n",
      "Outcomes for resistances on secondary side\n",
      "P Power(Watt=80.0, VAR=0)\n",
      "\n"
     ]
    }
   ],
   "source": [
    "trans((100,0), 20,5, 4)"
   ]
  },
  {
   "cell_type": "code",
   "execution_count": null,
   "metadata": {},
   "outputs": [],
   "source": []
  }
 ],
 "metadata": {
  "kernelspec": {
   "display_name": ".aocenvpy311",
   "language": "python",
   "name": "python3"
  },
  "language_info": {
   "codemirror_mode": {
    "name": "ipython",
    "version": 3
   },
   "file_extension": ".py",
   "mimetype": "text/x-python",
   "name": "python",
   "nbconvert_exporter": "python",
   "pygments_lexer": "ipython3",
   "version": "3.11.0"
  },
  "orig_nbformat": 4
 },
 "nbformat": 4,
 "nbformat_minor": 2
}
