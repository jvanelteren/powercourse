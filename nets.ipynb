{
 "cells": [
  {
   "cell_type": "code",
   "execution_count": 9,
   "metadata": {},
   "outputs": [],
   "source": [
    "from collections import namedtuple\n",
    "import math\n",
    "\n",
    "import numpy as np\n",
    "import z3\n",
    "from z3 import *\n",
    "\n",
    "def car(real, imag):\n",
    "    return complex(real,imag)\n",
    "\n",
    "def pol(rho, phi):\n",
    "    return (rho, phi)\n",
    "\n",
    "def car2pol(car):\n",
    "    x, y = car.real, car.imag\n",
    "    rho = np.sqrt(x**2 + y**2)\n",
    "    phi = np.arctan2(y, x)\n",
    "    phi = phi / 2 / math.pi * 360\n",
    "    return(rho, phi)\n",
    "\n",
    "def pol2car(rho, phi):\n",
    "    phi = phi / 360 * 2 * math.pi\n",
    "    x = rho * np.cos(phi)\n",
    "    y = rho * np.sin(phi)\n",
    "    return complex(x, y)"
   ]
  },
  {
   "cell_type": "code",
   "execution_count": 101,
   "metadata": {},
   "outputs": [],
   "source": [
    "def checkcar(var):\n",
    "    if isinstance(var, tuple):\n",
    "        print(f'        converting {var} into carthesian to calculate with')\n",
    "        return pol2car(*var)\n",
    "    return var\n",
    "\n",
    "def checkpol(var):\n",
    "    if isinstance(var, complex):\n",
    "        print(f'        converting {var} into polar to calculate with')\n",
    "        return car2pol(var)\n",
    "    if isinstance(var, int):\n",
    "        print(f'        int found for {var} assuming angle = 0 for polar calculation')\n",
    "        return (var, 0)\n",
    "    return var\n",
    "\n",
    "def parallel(x1,x2):\n",
    "    return (x1*x2) / (x1 + x2)\n",
    "\n",
    "def current(voltage, resistance):\n",
    "    voltage = checkcar(voltage)\n",
    "    cur = voltage / resistance\n",
    "    print(f'    current in polar notation: {car2pol(cur)}')\n",
    "    return cur\n",
    "\n",
    "def voltage(current, resistance):\n",
    "    current = checkcar(current)\n",
    "    vol = current * resistance\n",
    "    print(f'    voltage in polar notation: {car2pol(vol)}')\n",
    "    return vol\n",
    "\n",
    "def deg2rad(deg):\n",
    "    return deg / 360 * 2 * math.pi\n",
    "\n",
    "def rad2deg(rad):\n",
    "    return rad / 2 / math.pi * 360\n",
    "\n",
    "\n",
    "def Q(voltage, current):\n",
    "    voltage = checkpol(voltage)\n",
    "    current = checkpol(current)\n",
    "    print(f'    Q = {voltage[0]:.2f} * {current[0]:.2f} * sin({voltage[1]:.2f} - {current[1]:.2f}) WARNING, if current enters at - should be -Q')\n",
    "    return voltage[0] * current[0] * math.sin(deg2rad(voltage[1] - current[1]))\n",
    "    \n",
    "def P(voltage, current):\n",
    "    voltage = checkpol(voltage)\n",
    "    current = checkpol(current)\n",
    "    print(f'    U = {voltage}, I = {current}')\n",
    "    print(f'    P = {voltage[0]:.2f} * {current[0]:.2f} * cos({voltage[1]:.2f} - {current[1]:.2f}) WARNING, if current enters at - should be -P')\n",
    "    return voltage[0] * current[0] * math.cos(deg2rad(voltage[1] - current[1]))\n",
    "\n",
    "def S(P, Q):\n",
    "    return math.sqrt(P**2 + Q**2)\n",
    "\n"
   ]
  },
  {
   "cell_type": "code",
   "execution_count": 102,
   "metadata": {},
   "outputs": [],
   "source": [
    "def capacitor_resistance(capacity, frequency=50):\n",
    "    return -1 / (2*math.pi * frequency) / capacity\n",
    "\n",
    "def capacitor_capacity(resistance, frequency=50):\n",
    "    return 1 / (resistance * 2*math.pi * frequency)\n",
    "    \n",
    "def inductor_resistance(capacity, frequency=50):\n",
    "    return (2*math.pi * frequency) * capacity\n",
    "\n",
    "def inductor_capacity(resistance, frequency=50):\n",
    "    return resistance / (2*math.pi*frequency)"
   ]
  },
  {
   "cell_type": "code",
   "execution_count": 103,
   "metadata": {},
   "outputs": [],
   "source": [
    "def car2complexexpr(cart):\n",
    "    return ComplexExpr(cart.real, cart.imag)\n",
    "\n",
    "def pol2complexexpr(size, angle):\n",
    "    return car2complexexpr(pol2car(size, angle))\n",
    "\n",
    "def _to_complex(a):\n",
    "    if isinstance(a, ComplexExpr):\n",
    "        return a\n",
    "    else:\n",
    "        return ComplexExpr(a, RealVal(0))\n",
    "\n",
    "def _is_zero(a):\n",
    "    return (isinstance(a, int) and a == 0) or (is_rational_value(a) and a.numerator_as_long() == 0)\n",
    "\n",
    "class ComplexExpr:\n",
    "    def __init__(self, r, i):\n",
    "        self.r = r\n",
    "        self.i = i\n",
    "\n",
    "    def __add__(self, other):\n",
    "        other = _to_complex(other)\n",
    "        return ComplexExpr(self.r + other.r, self.i + other.i)\n",
    "\n",
    "    def __radd__(self, other):\n",
    "        other = _to_complex(other)\n",
    "        return ComplexExpr(other.r + self.r, other.i + self.i)\n",
    "\n",
    "    def __sub__(self, other):\n",
    "        other = _to_complex(other)\n",
    "        return ComplexExpr(self.r - other.r, self.i - other.i)\n",
    "\n",
    "    def __rsub__(self, other):\n",
    "        other = _to_complex(other)\n",
    "        return ComplexExpr(other.r - self.r, other.i - self.i)\n",
    "\n",
    "    def __mul__(self, other):\n",
    "        other = _to_complex(other)\n",
    "        return ComplexExpr(self.r*other.r - self.i*other.i, self.r*other.i + self.i*other.r)\n",
    "\n",
    "    def __mul__(self, other):\n",
    "        other = _to_complex(other)\n",
    "        return ComplexExpr(other.r*self.r - other.i*self.i, other.i*self.r + other.r*self.i)\n",
    "\n",
    "    def inv(self):\n",
    "        den = self.r*self.r + self.i*self.i\n",
    "        return ComplexExpr(self.r/den, -self.i/den)\n",
    "\n",
    "    def __div__(self, other):\n",
    "        inv_other = _to_complex(other).inv()\n",
    "        return self.__mul__(inv_other)\n",
    "\n",
    "    def __rdiv__(self, other):\n",
    "        other = _to_complex(other)\n",
    "        return self.inv().__mul__(other)\n",
    "\n",
    "    def __eq__(self, other):\n",
    "        other = _to_complex(other)\n",
    "        return And(self.r == other.r, self.i == other.i)\n",
    "\n",
    "    def __neq__(self, other):\n",
    "        return Not(self.__eq__(other))\n",
    "\n",
    "    def simplify(self):\n",
    "        return ComplexExpr(simplify(self.r), simplify(self.i))\n",
    "\n",
    "    def repr_i(self):\n",
    "        if is_rational_value(self.i):\n",
    "            return \"%s*I\" % self.i\n",
    "        else:\n",
    "            return \"(%s)*I\" % str(self.i)\n",
    "\n",
    "    def __repr__(self):\n",
    "        if _is_zero(self.i):\n",
    "            return str(self.r)\n",
    "        elif _is_zero(self.r):\n",
    "            return self.repr_i()\n",
    "        else:\n",
    "            return \"%s + %s\" % (self.r, self.repr_i())\n",
    "\n",
    "def Complex(a):\n",
    "    return ComplexExpr(Real('%s.r' % a), Real('%s.i' % a))\n",
    "# I = ComplexExpr(RealVal(0), RealVal(1))\n",
    "\n",
    "def evaluate_cexpr(m, e):\n",
    "    return ComplexExpr(m[e.r], m[e.i])\n",
    "\n",
    "def get_ans(m, var):\n",
    "    r = evaluate_cexpr(m, var).r\n",
    "    i = evaluate_cexpr(m, var).i\n",
    "    real = float(r.numerator_as_long())/float(r.denominator_as_long())\n",
    "    imag = float(i.numerator_as_long())/float(i.denominator_as_long())\n",
    "    return complex(real, imag)"
   ]
  },
  {
   "cell_type": "code",
   "execution_count": 104,
   "metadata": {},
   "outputs": [
    {
     "name": "stdout",
     "output_type": "stream",
     "text": [
      "(30.864750979992415, -35.21359368159654)\n",
      "(15.879783371533687, 85.75016285047698)\n",
      "(26.466305619222812, -4.249837149523023)\n"
     ]
    }
   ],
   "source": [
    "# template for AC nets\n",
    "I1 = Complex(\"x\")\n",
    "I2 = Complex(\"y\")\n",
    "I3 = Complex(\"z\")\n",
    "s = Tactic('qfnra-nlsat').solver()\n",
    "\n",
    "\n",
    "\n",
    "\n",
    "\n",
    "# s.add(ComplexExpr(cur.real, cur.imag) - I1 * ComplexExpr(8,4) - I2*ComplexExpr(0,-6) == 0)\n",
    "# s.add(I2 * ComplexExpr(0,-6) - ComplexExpr(cur2.real, cur2.imag) == 0)\n",
    "# s.add(I1 + I3 - I2 == 0)\n",
    "\n",
    "s.add(100-I1*ComplexExpr(0,6.28)-I3*ComplexExpr(0,-6)==0)\n",
    "s.add(I3*ComplexExpr(0,-6)+I2*10 == 0)\n",
    "s.add(I1 + I2 -I3 == 0)\n",
    "s.check()\n",
    "m = s.model()\n",
    "\n",
    "for var in [I1,I2, I3]:\n",
    "    print(car2pol(get_ans(m,var)))\n",
    "    "
   ]
  },
  {
   "cell_type": "code",
   "execution_count": 105,
   "metadata": {},
   "outputs": [
    {
     "data": {
      "text/plain": [
       "(4, -28, 32, -2, 34)"
      ]
     },
     "execution_count": 105,
     "metadata": {},
     "output_type": "execute_result"
    }
   ],
   "source": [
    "# template for DC nets\n",
    "I1 = Real('x')\n",
    "I2 = Real('y')\n",
    "I3 = Real('z')\n",
    "I4 = Real('r')\n",
    "I5 = Real('t')\n",
    "\n",
    "s = Tactic('qfnra-nlsat').solver()\n",
    "s.add(-10*I1-100-5*I2==0)\n",
    "s.add(5*I2 + 100 -20*I4 == 0)\n",
    "s.add(20*I4 + 40 == 0)\n",
    "\n",
    "s.add(I1 - I2 - I3 == 0)\n",
    "s.add(I3 - I4 - I5 == 0)\n",
    "    \n",
    "s.check()\n",
    "m = s.model()\n",
    "\n",
    "m.eval(I1), m.eval(I2), m.eval(I3),m.eval(I4),m.eval(I5)"
   ]
  },
  {
   "cell_type": "code",
   "execution_count": 106,
   "metadata": {},
   "outputs": [
    {
     "name": "stdout",
     "output_type": "stream",
     "text": [
      "        converting (100, 0) into carthesian to calculate with\n",
      "Total reactance for source (3-2.0000000000000004j)\n",
      "    current in polar notation: (27.735009811261456, 33.6900675259798)\n",
      "Transformer: \n",
      "Ip (27.735009811261456, 33.6900675259798)\n",
      "Is (2.7735009811261455, 33.6900675259798)\n",
      "Up (62.017367294604234, -29.744881296942225)\n",
      "Us (620.1736729460423, -29.74488129694223)\n",
      "        converting (53.846153846153854-30.769230769230774j) into polar to calculate with\n",
      "        converting (23.076923076923073+15.384615384615387j) into polar to calculate with\n",
      "    U = (62.017367294604234, -29.744881296942225), I = (27.735009811261456, 33.6900675259798)\n",
      "    P = 62.02 * 27.74 * cos(-29.74 - 33.69) WARNING, if current enters at - should be -P\n",
      "        converting (53.846153846153854-30.769230769230774j) into polar to calculate with\n",
      "        converting (23.076923076923073+15.384615384615387j) into polar to calculate with\n",
      "    Q = 62.02 * 27.74 * sin(-29.74 - 33.69) WARNING, if current enters at - should be -Q\n",
      "Pprim 769.230769230769W Qprim -1538.4615384615388VAR\n",
      "        converting (100+0j) into polar to calculate with\n",
      "        converting (23.076923076923073+15.384615384615387j) into polar to calculate with\n",
      "    U = (100.0, 0.0), I = (27.735009811261456, 33.6900675259798)\n",
      "    P = 100.00 * 27.74 * cos(0.00 - 33.69) WARNING, if current enters at - should be -P\n",
      "        converting (100+0j) into polar to calculate with\n",
      "        converting (23.076923076923073+15.384615384615387j) into polar to calculate with\n",
      "    Q = 100.00 * 27.74 * sin(0.00 - 33.69) WARNING, if current enters at - should be -Q\n",
      "Powers on primary side Psource: 2307.6923076923076, Qsource -1538.4615384615388\n",
      "    using I2* R: (23.076923076923073+15.384615384615387j)**2 2 = 1538.4615384615383\n",
      "Resistances on primary side: Power(Watt=1538.4615384615383, VAR=0)\n",
      "    using I2* R: (2.3076923076923075+1.5384615384615388j)**2 100.0 = 769.2307692307692\n",
      "    using I2* R: (2.3076923076923075+1.5384615384615388j)**2 -200.0 = 1538.4615384615383\n",
      "Resistances on secondary side: Power(Watt=769.2307692307692, VAR=1538.4615384615383)\n",
      "    using I2* R: (2.3076923076923075+1.5384615384615388j)**2 100.0 = 769.2307692307692\n",
      "    using I2* R: (2.3076923076923075+1.5384615384615388j)**2 -200.0 = 1538.4615384615383\n",
      "    using I2* R: (2.3076923076923075+1.5384615384615388j)**2 100.0 = 769.2307692307692\n",
      "    using I2* R: (2.3076923076923075+1.5384615384615388j)**2 -200.0 = 1538.4615384615383\n",
      "Efficiency transformer: 769.2307692307692 / 2307.6923076923076 = 0.3333333333333333\n"
     ]
    }
   ],
   "source": [
    "Power = namedtuple('Power', 'Watt VAR')\n",
    "\n",
    "def power(current, resistance):\n",
    "    if isinstance(resistance, complex):\n",
    "        return Power(power(current, resistance.real)[0], \n",
    "                     power(current, resistance.imag)[0])\n",
    "    else:\n",
    "        p = car2pol(current ** 2 * resistance)[0]\n",
    "        print(f'    using I2* R: {current}**2 {resistance} = {p}')\n",
    "        return Power(p,0)\n",
    "\n",
    "\n",
    "def trans(primaryvoltage, primaryresistance, secondaryresistance, ratio):\n",
    "    # bring everything to left side\n",
    "    primaryvoltage = checkcar(primaryvoltage)\n",
    "    res = primaryresistance + ratio ** 2 * secondaryresistance\n",
    "    print(f'Total reactance for source {res}')\n",
    "    Iprim = current(primaryvoltage, res)\n",
    "    Isec = Iprim * ratio\n",
    "    \n",
    "    Uprim = checkcar(primaryvoltage) - primaryresistance * Iprim\n",
    "    Usec  = Uprim / ratio\n",
    "    print(f'Transformer: \\nIp {car2pol(Iprim)}\\nIs {car2pol(Isec)}\\nUp {car2pol(Uprim)}\\nUs {car2pol(Usec)}')\n",
    "    print(f'Pprim {P(Uprim, Iprim)}W Qprim {Q(Uprim, Iprim)}VAR')\n",
    "    psource = P(primaryvoltage, Iprim)\n",
    "    qsource = Q(primaryvoltage, Iprim)\n",
    "    print(f'Powers on primary side Psource: {psource}, Qsource {qsource}')\n",
    "    print(f'Resistances on primary side: {power(Iprim, primaryresistance)}')\n",
    "    print(f'Resistances on secondary side: {power(Isec, secondaryresistance)}')\n",
    "    print(f'Efficiency transformer: {power(Isec, secondaryresistance).Watt} / {psource} = {power(Isec, secondaryresistance).Watt / psource}')\n",
    "\n",
    "trans((100,0), 2, (100-200j), 0.1)"
   ]
  },
  {
   "cell_type": "code",
   "execution_count": 107,
   "metadata": {},
   "outputs": [
    {
     "name": "stdout",
     "output_type": "stream",
     "text": [
      "Nullast:\n",
      "S = 69.0\n",
      "Q = 59.464274989274024 : sqrt(S**2 - P**2) = sqrt(4761.0 - 1225)\n",
      "phi = 59.51941427439488 : rad2deg(acos((P / (U * I))))\n",
      "Rij = 1511.4285714285713 : U**2 / P\n",
      "Xmu = 889.6097700601232 : U**2 / Q\n",
      "\n",
      "Kortsluit:\n",
      "S = 3780.0000000000005\n",
      "Q = 2999.7333214804285 : sqrt(S**2 - P**2) = sqrt(14288400.000000004 - 5290000)\n",
      "phi = 52.521361030590604 : rad2deg(acos((P / (U * I))))\n",
      "Rk = 0.16689986282578875 : P / I ** 2. Note Rk = R1 + R'2\n",
      "Xk = 0.21767612168218745 : Q / I ** 2\n",
      "\n"
     ]
    },
    {
     "data": {
      "text/plain": [
       "((1511.4285714285713, 889.6097700601232),\n",
       " (0.16689986282578875, 0.21767612168218745))"
      ]
     },
     "execution_count": 107,
     "metadata": {},
     "output_type": "execute_result"
    }
   ],
   "source": [
    "nullast(35, 230,0.3), kortsluit(2300, 0.14*230, 30000/230*0.9)"
   ]
  },
  {
   "cell_type": "code",
   "execution_count": 108,
   "metadata": {},
   "outputs": [
    {
     "name": "stdout",
     "output_type": "stream",
     "text": [
      "Total reactance for source (2.2827999999999995+0.2176j)\n",
      "    current in polar notation: (100.29882372039609, -5.445069764447646)\n",
      "Transformer: \n",
      "Ip (100.29882372039609, -5.445069764447646)\n",
      "Is (2.30687294556911, -5.445069764447646)\n",
      "Up (212.232310992358, -5.445069764447647)\n",
      "Us (9227.491782276436, -5.445069764447647)\n",
      "        converting (211.27464017670655-20.139022999146384j) into polar to calculate with\n",
      "        converting (99.84623826876495-9.517496691468047j) into polar to calculate with\n",
      "    U = (212.232310992358, -5.445069764447647), I = (100.29882372039609, -5.445069764447646)\n",
      "    P = 212.23 * 100.30 * cos(-5.45 - -5.45) WARNING, if current enters at - should be -P\n",
      "        converting (211.27464017670655-20.139022999146384j) into polar to calculate with\n",
      "        converting (99.84623826876495-9.517496691468047j) into polar to calculate with\n",
      "    Q = 212.23 * 100.30 * sin(-5.45 - -5.45) WARNING, if current enters at - should be -Q\n",
      "Pprim 21286.651147994795W Qprim -3.2997795540973475e-13VAR\n",
      "        int found for 230 assuming angle = 0 for polar calculation\n",
      "        converting (99.84623826876495-9.517496691468047j) into polar to calculate with\n",
      "    U = (230, 0), I = (100.29882372039609, -5.445069764447646)\n",
      "    P = 230.00 * 100.30 * cos(0.00 - -5.45) WARNING, if current enters at - should be -P\n",
      "        int found for 230 assuming angle = 0 for polar calculation\n",
      "        converting (99.84623826876495-9.517496691468047j) into polar to calculate with\n",
      "    Q = 230.00 * 100.30 * sin(0.00 - -5.45) WARNING, if current enters at - should be -Q\n",
      "Powers on primary side Psource: 22964.63480181594, Qsource 2189.024239037651\n",
      "    using I2* R: (99.84623826876495-9.517496691468047j)**2 0.1668 = 1677.983653821141\n",
      "    using I2* R: (99.84623826876495-9.517496691468047j)**2 0.2176 = 2189.024239037651\n",
      "Resistances on primary side: Power(Watt=1677.983653821141, VAR=2189.024239037651)\n",
      "    using I2* R: (2.2964634801815937-0.21890242390376508j)**2 4000 = 21286.651147994806\n",
      "Resistances on secondary side: Power(Watt=21286.651147994806, VAR=0)\n",
      "    using I2* R: (2.2964634801815937-0.21890242390376508j)**2 4000 = 21286.651147994806\n",
      "    using I2* R: (2.2964634801815937-0.21890242390376508j)**2 4000 = 21286.651147994806\n",
      "Efficiency transformer: 21286.651147994806 / 22964.63480181594 = 0.9269318380935695\n"
     ]
    }
   ],
   "source": [
    "trans(230, 0.1668 + 0.2176j, 4000, 230/10000)\n"
   ]
  },
  {
   "attachments": {},
   "cell_type": "markdown",
   "metadata": {},
   "source": [
    "### Asynchronous machines"
   ]
  },
  {
   "cell_type": "code",
   "execution_count": 109,
   "metadata": {},
   "outputs": [],
   "source": [
    "from math import sqrt\n",
    "def phase2linevoltage(phasevoltage):\n",
    "    return sqrt(3) * phasevoltage\n",
    "def line2phasevoltage(linevoltage):\n",
    "    return linevoltage / sqrt(3)\n",
    "line2phasevoltage(10000)\n",
    "\n",
    "def S3f(Ul, I):\n",
    "    return sqrt(3) * Ul * I\n",
    "\n",
    "def Pdriehoek(Pster):\n",
    "    return 3 * Pster"
   ]
  },
  {
   "cell_type": "code",
   "execution_count": null,
   "metadata": {},
   "outputs": [],
   "source": []
  },
  {
   "cell_type": "code",
   "execution_count": 110,
   "metadata": {},
   "outputs": [],
   "source": [
    "def nullast(P,U,I):\n",
    "    S = U * I # schijnbaar vermogen\n",
    "    Q = (S**2 - P**2)**0.5 # blind vermogen\n",
    "    # nullasten staan parallel aan de bron dus P = U**2 / R gebruiken\n",
    "    Rij = U**2 / P  \n",
    "    Xmu = U**2 / Q\n",
    "    phi = rad2deg(math.acos((P / (U * I)))) # from formula P = U * I * cos(phi)\n",
    "    print(\n",
    "        'Nullast:\\n'\n",
    "        f'S = {S}\\n'\n",
    "        f'Q = {Q} : sqrt(S**2 - P**2) = sqrt({S**2} - {P**2})\\n'\n",
    "        f'phi = {phi} : rad2deg(acos((P / (U * I))))\\n'\n",
    "        f'Rij = {Rij} : U**2 / P\\n'\n",
    "        f'Xmu = {Xmu} : U**2 / Q\\n')\n",
    "    return Rij, Xmu\n",
    "\n",
    "\n",
    "def kortsluit(P,U,I):\n",
    "    S = U * I # schijnbaar vermogen\n",
    "    Q = (S**2 - P**2)**0.5 # blind vermogen\n",
    "    # nullasten staan in serie met bron dus P = I**2 * R gebruiken\n",
    "    Rk = P / I**2\n",
    "    Xk = Q / I**2\n",
    "    phi = rad2deg(math.acos((P / (U * I)))) # from formula P = U * I * cos(phi)\n",
    "    print(\n",
    "        'Kortsluit:\\n'\n",
    "        f'S = {S}\\n'\n",
    "        f'Q = {Q} : sqrt(S**2 - P**2) = sqrt({S**2} - {P**2})\\n'\n",
    "        f'phi = {phi} : rad2deg(acos((P / (U * I))))\\n'\n",
    "        f\"Rk = {Rk} : P / I ** 2. Note Rk = R1 + R'2\\n\"\n",
    "        f'Xk = {Xk} : Q / I ** 2\\n')\n",
    "    return Rk, Xk\n",
    "\n"
   ]
  },
  {
   "cell_type": "code",
   "execution_count": 111,
   "metadata": {},
   "outputs": [
    {
     "data": {
      "text/plain": [
       "48.94"
      ]
     },
     "execution_count": 111,
     "metadata": {},
     "output_type": "execute_result"
    }
   ],
   "source": [
    "def slip(fnet, frotor):\n",
    "    # slip = 1, means rotor is stationary\n",
    "    # slip = 0, means fnet == frotor\n",
    "    # slip < 0, means machine is acting as generator\n",
    "    return (fnet - frotor) / fnet\n",
    "slip(50,0), slip(50,50), slip(50, 60)\n",
    "\n",
    "def slip2freq(slip, fnet=None):\n",
    "    if not fnet: fnet = 50\n",
    "    # slip = (fnet - frot) / fnet\n",
    "    return -(slip * fnet - fnet)\n",
    "slip2freq(0.0212)"
   ]
  },
  {
   "cell_type": "code",
   "execution_count": 112,
   "metadata": {},
   "outputs": [],
   "source": [
    "def R2(Rk, ohmmeasured):\n",
    "    # vervangingsweerstand as berekenen bij bekend zijn van Rk vanuit kortsluitproef\n",
    "    return Rk - (ohmmeasured / 2)\n",
    "\n",
    "def Ras(R2, slip):\n",
    "    # vervangingsweerstand as berekenen inclusief slip\n",
    "    return R2 * (1-slip) / slip\n",
    "\n",
    "def Pas(I, R2, s):\n",
    "    # asvermogen bepalen\n",
    "    return 3 * I**2 * R2 * (1-s) / s\n",
    "\n",
    "def koppel(P, freq):\n",
    "    # P = w T\n",
    "    return P / (freq * 2 * math.pi)"
   ]
  },
  {
   "cell_type": "code",
   "execution_count": 114,
   "metadata": {},
   "outputs": [
    {
     "name": "stdout",
     "output_type": "stream",
     "text": [
      "        converting (230, 0) into carthesian to calculate with\n",
      "    current in polar notation: (49.62924367654542, -177.52658296177944)\n",
      "        converting (-49.583006676742166-2.141792893831239j) into polar to calculate with\n",
      "Asynchronous machine\n",
      "Total reactance =  (-4.630046800468004+0.2j)\n",
      "Current = (49.62924367654542, -177.52658296177944) (voltage / reactance)\n",
      "    U = (230, 0), I = (49.62924367654542, -177.52658296177944)\n",
      "    P = 230.00 * 49.63 * cos(0.00 - -177.53) WARNING, if current enters at - should be -P\n",
      "P =  -34212.274606952094\n",
      "    Q = 230.00 * 49.63 * sin(0.00 - -177.53) WARNING, if current enters at - should be -Q\n",
      "Q =  1477.8370967435362\n",
      "Pas =  -35734.44681659795\n",
      "    U = (230, 0), I = (49.62924367654542, -177.52658296177944)\n",
      "    P = 230.00 * 49.63 * cos(0.00 - -177.53) WARNING, if current enters at - should be -P\n",
      "rendement bij slip > 0 (anders 1/x doen) 1.0444919908755947\n"
     ]
    },
    {
     "data": {
      "text/plain": [
       "-35734.44681659795"
      ]
     },
     "execution_count": 114,
     "metadata": {},
     "output_type": "execute_result"
    }
   ],
   "source": [
    "def asynchrone(voltage, Xk, Rk, R2, slip):\n",
    "    # gegeven vervangingsschema en een slip bepaal stroom, vermogens en rendement\n",
    "    if isinstance(voltage, int):\n",
    "        voltage = (voltage, 0)\n",
    "    reactance = complex(Rk + Ras(R2, slip), Xk)\n",
    "    cur = checkpol(current(voltage, reactance))\n",
    "    print('Asynchronous machine')\n",
    "    print('Total reactance = ', reactance)\n",
    "    print(f'Current = {cur} (voltage / reactance)')\n",
    "    print('P = ', 3* P(voltage, cur))\n",
    "    print('Q = ', 3*Q(voltage, cur))\n",
    "    print('Pas = ', Pas(cur[0], R2, slip))\n",
    "    print('rendement bij slip > 0 (anders 1/x doen)', Pas(cur[0], R2, slip) / (3 * P(voltage, cur)))\n",
    "    return Pas(cur[0], R2, slip)\n",
    "    \n",
    "    \n",
    "asynchrone((230,0), 0.2, 0.206, 0.156, -0.033333)"
   ]
  },
  {
   "cell_type": "code",
   "execution_count": null,
   "metadata": {},
   "outputs": [],
   "source": []
  },
  {
   "cell_type": "code",
   "execution_count": 115,
   "metadata": {},
   "outputs": [
    {
     "name": "stdout",
     "output_type": "stream",
     "text": [
      "Nullast:\n",
      "S = 46.0\n",
      "Q = 34.87119154832539 : sqrt(S**2 - P**2) = sqrt(2116.0 - 900)\n",
      "phi = 49.29429316895856 : rad2deg(acos((P / (U * I))))\n",
      "Rij = 1763.3333333333333 : U**2 / P\n",
      "Xmu = 1517.0115402190895 : U**2 / Q\n",
      "\n",
      "Kortsluit:\n",
      "S = 1391.3043478260872\n",
      "Q = 967.3302374472607 : sqrt(S**2 - P**2) = sqrt(1935727.788279774 - 1000000)\n",
      "phi = 44.04862567408433 : rad2deg(acos((P / (U * I))))\n",
      "Rk = 0.20664062499999994 : P / I ** 2. Note Rk = R1 + R'2\n",
      "Xk = 0.19988972484750028 : Q / I ** 2\n",
      "\n"
     ]
    },
    {
     "data": {
      "text/plain": [
       "((1763.3333333333333, 1517.0115402190895),\n",
       " (0.20664062499999994, 0.19988972484750028))"
      ]
     },
     "execution_count": 115,
     "metadata": {},
     "output_type": "execute_result"
    }
   ],
   "source": [
    "S1f = 60000 / 3\n",
    "nominalcurrent = S1f / 230\n",
    "nullast(30, 230, 0.2), kortsluit(1000, 20, 0.8*nominalcurrent)"
   ]
  },
  {
   "cell_type": "code",
   "execution_count": 116,
   "metadata": {},
   "outputs": [
    {
     "data": {
      "text/plain": [
       "(0.15664, 47.5)"
      ]
     },
     "execution_count": 116,
     "metadata": {},
     "output_type": "execute_result"
    }
   ],
   "source": [
    "R2(0.20664,0.1), slip2freq(0.05, 50)"
   ]
  },
  {
   "cell_type": "code",
   "execution_count": 117,
   "metadata": {},
   "outputs": [
    {
     "name": "stdout",
     "output_type": "stream",
     "text": [
      "        converting (230, 0) into carthesian to calculate with\n",
      "    current in polar notation: (72.29000149436987, -3.585994993268026)\n",
      "        converting (72.14846104871398-4.521491386500625j) into polar to calculate with\n",
      "Asynchronous machine\n",
      "Total reactance =  (3.1754+0.199j)\n",
      "Current = (72.29000149436987, -3.585994993268026) (voltage / reactance)\n",
      "    U = (230, 0), I = (72.29000149436987, -3.585994993268026)\n",
      "    P = 230.00 * 72.29 * cos(0.00 - -3.59) WARNING, if current enters at - should be -P\n",
      "P =  49782.43812361264\n",
      "    Q = 230.00 * 72.29 * sin(0.00 - -3.59) WARNING, if current enters at - should be -Q\n",
      "Q =  3119.829056685431\n",
      "Pas =  46646.93153397905\n",
      "    U = (230, 0), I = (72.29000149436987, -3.585994993268026)\n",
      "    P = 230.00 * 72.29 * cos(0.00 - -3.59) WARNING, if current enters at - should be -P\n",
      "rendement bij slip > 0 (anders 1/x doen) 0.937015809031933\n"
     ]
    },
    {
     "data": {
      "text/plain": [
       "46646.93153397905"
      ]
     },
     "execution_count": 117,
     "metadata": {},
     "output_type": "execute_result"
    }
   ],
   "source": [
    "asynchrone((230,0), 0.199, 0.20, 0.1566, 0.05)"
   ]
  },
  {
   "cell_type": "code",
   "execution_count": 19,
   "metadata": {},
   "outputs": [
    {
     "name": "stdout",
     "output_type": "stream",
     "text": [
      "Nullast:\n",
      "S = 92.0\n",
      "Q = 69.74238309665078\n",
      "phi = 49.29429316895856\n",
      "Rij = 881.6666666666666\n",
      "Xij = 758.5057701095448\n",
      "\n"
     ]
    },
    {
     "data": {
      "text/plain": [
       "(881.6666666666666, 758.5057701095448)"
      ]
     },
     "execution_count": 19,
     "metadata": {},
     "output_type": "execute_result"
    }
   ],
   "source": [
    "nullast(180/3, 230, 0.4)"
   ]
  },
  {
   "cell_type": "code",
   "execution_count": 20,
   "metadata": {},
   "outputs": [
    {
     "name": "stdout",
     "output_type": "stream",
     "text": [
      "Kortsluit:\n",
      "S = 899.76\n",
      "Q = 748.0428180258133\n",
      "phi = 56.24079944551819\n",
      "Rij = 0.08167935898561818\n",
      "Xij = 0.12219931574028771\n",
      "\n"
     ]
    },
    {
     "data": {
      "text/plain": [
       "(0.08167935898561818, 0.12219931574028771)"
      ]
     },
     "execution_count": 20,
     "metadata": {},
     "output_type": "execute_result"
    }
   ],
   "source": []
  },
  {
   "cell_type": "code",
   "execution_count": 21,
   "metadata": {},
   "outputs": [],
   "source": [
    "asynchrone()"
   ]
  },
  {
   "cell_type": "code",
   "execution_count": 22,
   "metadata": {},
   "outputs": [
    {
     "data": {
      "text/plain": [
       "48.94"
      ]
     },
     "execution_count": 22,
     "metadata": {},
     "output_type": "execute_result"
    }
   ],
   "source": []
  },
  {
   "cell_type": "code",
   "execution_count": 91,
   "metadata": {},
   "outputs": [
    {
     "name": "stdout",
     "output_type": "stream",
     "text": [
      "        converting (230, 0) into carthesian to calculate with\n",
      "    current in polar notation: (49.62924367654542, -177.52658296177944)\n",
      "        converting (-49.583006676742166-2.141792893831239j) into polar to calculate with\n",
      "total reactance (-4.630046800468004+0.2j)\n",
      "current (49.62924367654542, -177.52658296177944)\n",
      "(230, 0) (49.62924367654542, -177.52658296177944)\n",
      "    P = 230.00 * 49.63 * cos(0.00 - -177.53) WARNING, if current enters at - should be -P\n",
      "vermogen -34212.274606952094\n",
      "    Q = 230.00 * 49.63 * sin(0.00 - -177.53) WARNING, if current enters at - should be -Q\n",
      "blindvermogen 1477.8370967435362\n",
      "asvermogen -35734.44681659795\n",
      "(230, 0) (49.62924367654542, -177.52658296177944)\n",
      "    P = 230.00 * 49.63 * cos(0.00 - -177.53) WARNING, if current enters at - should be -P\n",
      "rendement bij slip > 0 (anders 1/x doen) 1.0444919908755947\n"
     ]
    },
    {
     "data": {
      "text/plain": [
       "-35734.44681659795"
      ]
     },
     "execution_count": 91,
     "metadata": {},
     "output_type": "execute_result"
    }
   ],
   "source": []
  },
  {
   "attachments": {},
   "cell_type": "markdown",
   "metadata": {},
   "source": [
    "### Synchnonous machines"
   ]
  },
  {
   "cell_type": "code",
   "execution_count": 24,
   "metadata": {},
   "outputs": [
    {
     "name": "stdout",
     "output_type": "stream",
     "text": [
      "Bij een I2 van 2.3A wordt de nominale fasespanning gehaald van 230V\n",
      "Bij een I2 van 9.2A treedt een I1 op van 16.0A, dus bij I2 van 2.3A is I1 4.0A\n",
      "X1 is daarom 230 / 4.0 = 57.5ohm\n"
     ]
    }
   ],
   "source": [
    "def X1(S1f, Unom, I2nullast, I1kortsluit, I2kortsluit):\n",
    "    lam = Unom / I2nullast\n",
    "    print(f'Bij een I2 van {I2nullast}A wordt de nominale fasespanning gehaald van {Unom}V')\n",
    "    I1nullast = I1kortsluit / I2kortsluit * I2nullast\n",
    "    print(f'Bij een I2 van {I2kortsluit}A treedt een I1 op van {I1kortsluit}A, dus bij I2 van {I2nullast}A is I1 {I1nullast}A')\n",
    "    X1 = Unom / I1nullast\n",
    "    print(f'X1 is daarom {Unom} / {I1nullast} = {X1}ohm')\n",
    "    return X1\n",
    "Imax = 20\n",
    "x1 = X1(56679/3, 230, 2.3, Imax*0.8, 9.2)"
   ]
  },
  {
   "cell_type": "code",
   "execution_count": 25,
   "metadata": {},
   "outputs": [],
   "source": [
    "def U12(Unet, I1, X1, l = None):\n",
    "    UX1 = voltage(I1, complex(0,X1))\n",
    "    print(f'Voltage over X1 {car2pol(UX1)}')\n",
    "    u12 = car2pol(pol2car(*Unet) - UX1)\n",
    "    print(f'Unet - UX1 = U12 --> {Unet} - {car2pol(UX1)} = {u12}')\n",
    "    print(f'lasthoek is {u12[1] - Unet[1]}')\n",
    "    print(f'Pas is {3 * -P(u12, I1)}')\n",
    "    QX1 = 3 * I1[0]**2 * X1\n",
    "    Qas = 3 * Q(u12, I1)\n",
    "    print(f'Qas is {Qas}')\n",
    "    print(f'QX1 is {QX1}')\n",
    "    print(f'Pnet is {-3 * P(Unet, I1)}')\n",
    "    print(f'Qnet is {-3 * Q(Unet, I1)}')\n",
    "    machineQ = QX1 + Qas\n",
    "    behavior = 'inductive' if machineQ > 0 else 'capacitive'\n",
    "    print(f'machine is operating {machineQ}, therefore {behavior}')\n",
    "    \n",
    "    \n",
    "    if l:\n",
    "        I2 = u12[0] / l\n",
    "        print(f'I2 is {I2}A')\n",
    "    return u12"
   ]
  },
  {
   "cell_type": "code",
   "execution_count": 26,
   "metadata": {},
   "outputs": [],
   "source": [
    "unet = (230,0)\n",
    "z = complex(3,2)\n",
    "inet = car2pol(pol2car(*unet) / z)\n",
    "i1 = inet[0], inet[1] - 180"
   ]
  },
  {
   "cell_type": "code",
   "execution_count": 27,
   "metadata": {},
   "outputs": [
    {
     "name": "stdout",
     "output_type": "stream",
     "text": [
      "        converting (50, 20) into carthesian to calculate with\n",
      "    voltage in polar notation: (492.99999999999994, 110.00000000000001)\n",
      "Voltage over X1 (492.99999999999994, 110.00000000000001)\n",
      "Unet - UX1 = U12 --> (230, 0) - (492.99999999999994, 110.00000000000001) = (611.156549587252, -49.28989383753886)\n",
      "lasthoek is -49.28989383753886\n",
      "    P = 611.16 * 50.00 * cos(-49.29 - 20.00) WARNING, if current enters at - should be -P\n",
      "Pas is -32419.39541711384\n",
      "    Q = 611.16 * 50.00 * sin(-49.29 - 20.00) WARNING, if current enters at - should be -Q\n",
      "Qas is -85749.69494473559\n",
      "QX1 is 73950.0\n",
      "    P = 230.00 * 50.00 * cos(0.00 - 20.00) WARNING, if current enters at - should be -P\n",
      "Pnet is -32419.395417113843\n",
      "    Q = 230.00 * 50.00 * sin(0.00 - 20.00) WARNING, if current enters at - should be -Q\n",
      "Qnet is 11799.694944735571\n",
      "machine is operating -11799.694944735587, therefore capacitive\n",
      "I2 is 10.628809558039165A\n"
     ]
    },
    {
     "data": {
      "text/plain": [
       "(611.156549587252, -49.28989383753886)"
      ]
     },
     "execution_count": 27,
     "metadata": {},
     "output_type": "execute_result"
    }
   ],
   "source": [
    "U12(unet, (50,20), 9.86,57.5)"
   ]
  },
  {
   "cell_type": "code",
   "execution_count": 28,
   "metadata": {},
   "outputs": [],
   "source": [
    "from functools import partial\n",
    "p = partial(asynchrone, 233, 78, 45, 10)"
   ]
  },
  {
   "cell_type": "code",
   "execution_count": 29,
   "metadata": {},
   "outputs": [
    {
     "name": "stdout",
     "output_type": "stream",
     "text": [
      "-0.99\n",
      "        converting (233, 0) into carthesian to calculate with\n",
      "    current in polar notation: (2.8457072716371075, -72.29599041025817)\n",
      "        converting (0.8653788071255943-2.710935151571537j) into polar to calculate with\n",
      "total reactance (24.8989898989899+78j)\n",
      "current (2.8457072716371075, -72.29599041025817)\n",
      "    P = 233.00 * 2.85 * cos(0.00 - -72.30) WARNING, if current enters at - should be -P\n",
      "vermogen 604.8997861807899\n",
      "    Q = 233.00 * 2.85 * sin(0.00 - -72.30) WARNING, if current enters at - should be -Q\n",
      "blindvermogen 1894.9436709485044\n",
      "asvermogen -488.3369470587314\n",
      "    P = 233.00 * 2.85 * cos(0.00 - -72.30) WARNING, if current enters at - should be -P\n",
      "rendement bij slip > 0 (anders 1/x doen) -0.8073022312373233\n",
      "-0.8857894736842105\n",
      "        converting (233, 0) into carthesian to calculate with\n",
      "    current in polar notation: (2.8580472598977225, -73.09164552846183)\n",
      "        converting (0.831239342042167-2.7344972656870925j) into polar to calculate with\n",
      "total reactance (23.710635769459298+78j)\n",
      "current (2.8580472598977225, -73.09164552846183)\n",
      "    P = 233.00 * 2.86 * cos(0.00 - -73.09) WARNING, if current enters at - should be -P\n",
      "vermogen 581.0363000874753\n",
      "    Q = 233.00 * 2.86 * sin(0.00 - -73.09) WARNING, if current enters at - should be -Q\n",
      "blindvermogen 1911.4135887152775\n",
      "asvermogen -521.702308786724\n",
      "    P = 233.00 * 2.86 * cos(0.00 - -73.09) WARNING, if current enters at - should be -P\n",
      "rendement bij slip > 0 (anders 1/x doen) -0.8978824708683114\n",
      "-0.781578947368421\n",
      "        converting (233, 0) into carthesian to calculate with\n",
      "    current in polar notation: (2.873024864141138, -74.10917086926405)\n",
      "        converting (0.7866493689754956-2.763232643166995j) into polar to calculate with\n",
      "total reactance (22.205387205387204+78j)\n",
      "current (2.873024864141138, -74.10917086926405)\n",
      "    P = 233.00 * 2.87 * cos(0.00 - -74.11) WARNING, if current enters at - should be -P\n",
      "vermogen 549.8679089138714\n",
      "    Q = 233.00 * 2.87 * sin(0.00 - -74.11) WARNING, if current enters at - should be -Q\n",
      "blindvermogen 1931.4996175737297\n",
      "asvermogen -564.4587935325111\n",
      "    P = 233.00 * 2.87 * cos(0.00 - -74.11) WARNING, if current enters at - should be -P\n",
      "rendement bij slip > 0 (anders 1/x doen) -1.0265352539802886\n",
      "-0.6773684210526316\n",
      "        converting (233, 0) into carthesian to calculate with\n",
      "    current in polar notation: (2.8914474855603114, -75.45538404600956)\n",
      "        converting (0.7261402526114832-2.7987834670246245j) into polar to calculate with\n",
      "total reactance (20.236985236985237+78j)\n",
      "current (2.8914474855603114, -75.45538404600956)\n",
      "    P = 233.00 * 2.89 * cos(0.00 - -75.46) WARNING, if current enters at - should be -P\n",
      "vermogen 507.5720365754264\n",
      "    Q = 233.00 * 2.89 * sin(0.00 - -75.46) WARNING, if current enters at - should be -Q\n",
      "blindvermogen 1956.3496434502126\n",
      "asvermogen -621.0912192612345\n",
      "    P = 233.00 * 2.89 * cos(0.00 - -75.46) WARNING, if current enters at - should be -P\n",
      "rendement bij slip > 0 (anders 1/x doen) -1.223651372624305\n",
      "-0.5731578947368421\n",
      "        converting (233, 0) into carthesian to calculate with\n",
      "    current in polar notation: (2.9142990389777297, -77.31765834482601)\n",
      "        converting (0.6398213498832699-2.8431967094838986j) into polar to calculate with\n",
      "total reactance (17.552800734618916+78j)\n",
      "current (2.9142990389777297, -77.31765834482601)\n",
      "    P = 233.00 * 2.91 * cos(0.00 - -77.32) WARNING, if current enters at - should be -P\n",
      "vermogen 447.23512356840513\n",
      "    Q = 233.00 * 2.91 * sin(0.00 - -77.32) WARNING, if current enters at - should be -Q\n",
      "blindvermogen 1987.3944999292453\n",
      "asvermogen -699.3386263907743\n",
      "    P = 233.00 * 2.91 * cos(0.00 - -77.32) WARNING, if current enters at - should be -P\n",
      "rendement bij slip > 0 (anders 1/x doen) -1.563693434475545\n",
      "-0.46894736842105256\n",
      "        converting (233, 0) into carthesian to calculate with\n",
      "    current in polar notation: (2.942298393688071, -80.05547721199294)\n",
      "        converting (0.5081188866246162-2.898091619420401j) into polar to calculate with\n",
      "total reactance (13.675645342312006+78j)\n",
      "current (2.942298393688071, -80.05547721199294)\n",
      "    P = 233.00 * 2.94 * cos(0.00 - -80.06) WARNING, if current enters at - should be -P\n",
      "vermogen 355.17510175060664\n",
      "    Q = 233.00 * 2.94 * sin(0.00 - -80.06) WARNING, if current enters at - should be -Q\n",
      "blindvermogen 2025.7660419748604\n",
      "asvermogen -813.5360763118127\n",
      "    P = 233.00 * 2.94 * cos(0.00 - -80.06) WARNING, if current enters at - should be -P\n",
      "rendement bij slip > 0 (anders 1/x doen) -2.2905211325400097\n",
      "-0.36473684210526314\n",
      "        converting (233, 0) into carthesian to calculate with\n",
      "    current in polar notation: (2.973162461415031, -84.44729147902038)\n",
      "        converting (0.2876874034052306-2.959211209070661j) into polar to calculate with\n",
      "total reactance (7.582972582972587+78j)\n",
      "current (2.973162461415031, -84.44729147902038)\n",
      "    P = 233.00 * 2.97 * cos(0.00 - -84.45) WARNING, if current enters at - should be -P\n",
      "vermogen 201.09349498025614\n",
      "    Q = 233.00 * 2.97 * sin(0.00 - -84.45) WARNING, if current enters at - should be -Q\n",
      "blindvermogen 2068.488635140392\n",
      "asvermogen -992.2653329853543\n",
      "    P = 233.00 * 2.97 * cos(0.00 - -84.45) WARNING, if current enters at - should be -P\n",
      "rendement bij slip > 0 (anders 1/x doen) -4.934348239771642\n",
      "-0.2605263157894737\n",
      "        converting (233, 0) into carthesian to calculate with\n",
      "    current in polar notation: (2.9843724455787206, -92.48407903880889)\n",
      "        converting (-0.12934800491899154-2.981568041744644j) into polar to calculate with\n",
      "total reactance (-3.3838383838383734+78j)\n",
      "current (2.9843724455787206, -92.48407903880889)\n",
      "    P = 233.00 * 2.98 * cos(0.00 - -92.48) WARNING, if current enters at - should be -P\n",
      "vermogen -90.41425543837488\n",
      "    Q = 233.00 * 2.98 * sin(0.00 - -92.48) WARNING, if current enters at - should be -Q\n",
      "blindvermogen 2084.116061179506\n",
      "asvermogen -1292.7889061188596\n",
      "    P = 233.00 * 2.98 * cos(0.00 - -92.48) WARNING, if current enters at - should be -P\n",
      "rendement bij slip > 0 (anders 1/x doen) 14.298507462686642\n",
      "-0.15631578947368419\n",
      "        converting (233, 0) into carthesian to calculate with\n",
      "    current in polar notation: (2.8002383793967915, -110.3774908707596)\n",
      "        converting (-0.9750536482904797-2.624996259883468j) into polar to calculate with\n",
      "total reactance (-28.973063973063987+78j)\n",
      "current (2.8002383793967915, -110.3774908707596)\n",
      "    P = 233.00 * 2.80 * cos(0.00 - -110.38) WARNING, if current enters at - should be -P\n",
      "vermogen -681.5625001550454\n",
      "    Q = 233.00 * 2.80 * sin(0.00 - -110.38) WARNING, if current enters at - should be -Q\n",
      "blindvermogen 1834.8723856585439\n",
      "asvermogen -1740.142722650359\n",
      "    P = 233.00 * 2.80 * cos(0.00 - -110.38) WARNING, if current enters at - should be -P\n",
      "rendement bij slip > 0 (anders 1/x doen) 2.553166763509586\n",
      "-0.052105263157894655\n",
      "        converting (233, 0) into carthesian to calculate with\n",
      "    current in polar notation: (1.3296359588899493, -153.56935556585066)\n",
      "        converting (-1.190654192205126-0.5918398244099108j) into polar to calculate with\n",
      "total reactance (-156.91919191919223+78j)\n",
      "current (1.3296359588899493, -153.56935556585066)\n",
      "    P = 233.00 * 1.33 * cos(0.00 - -153.57) WARNING, if current enters at - should be -P\n",
      "vermogen -832.2672803513831\n",
      "    Q = 233.00 * 1.33 * sin(0.00 - -153.57) WARNING, if current enters at - should be -Q\n",
      "blindvermogen 413.6960372625275\n",
      "asvermogen -1070.9380710797645\n",
      "    P = 233.00 * 1.33 * cos(0.00 - -153.57) WARNING, if current enters at - should be -P\n",
      "rendement bij slip > 0 (anders 1/x doen) 1.286771805600257\n",
      "0.05210526315789488\n",
      "        converting (233, 0) into carthesian to calculate with\n",
      "    current in polar notation: (0.9710329579271227, -18.96962373741786)\n",
      "        converting (0.918297175440123-0.3156506026596326j) into polar to calculate with\n",
      "total reactance (226.9191919191914+78j)\n",
      "current (0.9710329579271227, -18.96962373741786)\n",
      "    P = 233.00 * 0.97 * cos(0.00 - -18.97) WARNING, if current enters at - should be -P\n",
      "vermogen 641.889725632646\n",
      "    Q = 233.00 * 0.97 * sin(0.00 - -18.97) WARNING, if current enters at - should be -Q\n",
      "blindvermogen 220.6397712590832\n",
      "asvermogen 514.5975499062519\n",
      "    P = 233.00 * 0.97 * cos(0.00 - -18.97) WARNING, if current enters at - should be -P\n",
      "rendement bij slip > 0 (anders 1/x doen) 0.8016915201424434\n",
      "0.15631578947368419\n",
      "        converting (233, 0) into carthesian to calculate with\n",
      "    current in polar notation: (1.8489928007607395, -38.24140460600278)\n",
      "        converting (1.4522170607318674-1.144482409556538j) into polar to calculate with\n",
      "total reactance (98.97306397306399+78j)\n",
      "current (1.8489928007607395, -38.24140460600278)\n",
      "    P = 233.00 * 1.85 * cos(0.00 - -38.24) WARNING, if current enters at - should be -P\n",
      "vermogen 1015.0997254515753\n",
      "    Q = 233.00 * 1.85 * sin(0.00 - -38.24) WARNING, if current enters at - should be -Q\n",
      "blindvermogen 799.9932042800202\n",
      "asvermogen 553.5651845207944\n",
      "    P = 233.00 * 1.85 * cos(0.00 - -38.24) WARNING, if current enters at - should be -P\n",
      "rendement bij slip > 0 (anders 1/x doen) 0.5453308385779895\n",
      "0.2605263157894737\n",
      "        converting (233, 0) into carthesian to calculate with\n",
      "    current in polar notation: (2.175652801122995, -46.74658438402987)\n",
      "        converting (1.4908147583848979-1.5845934706466869j) into polar to calculate with\n",
      "total reactance (73.38383838383838+78j)\n",
      "current (2.175652801122995, -46.74658438402987)\n",
      "    P = 233.00 * 2.18 * cos(0.00 - -46.75) WARNING, if current enters at - should be -P\n",
      "vermogen 1042.0795161110436\n",
      "    Q = 233.00 * 2.18 * sin(0.00 - -46.75) WARNING, if current enters at - should be -Q\n",
      "blindvermogen 1107.6308359820343\n",
      "asvermogen 403.0617261214084\n",
      "    P = 233.00 * 2.18 * cos(0.00 - -46.75) WARNING, if current enters at - should be -P\n",
      "rendement bij slip > 0 (anders 1/x doen) 0.3867859600825877\n",
      "0.36473684210526325\n",
      "        converting (233, 0) into carthesian to calculate with\n",
      "    current in polar notation: (2.332346902335934, -51.332565923149836)\n",
      "        converting (1.4572479476588214-1.8210630115073387j) into polar to calculate with\n",
      "total reactance (62.41702741702741+78j)\n",
      "current (2.332346902335934, -51.332565923149836)\n",
      "    P = 233.00 * 2.33 * cos(0.00 - -51.33) WARNING, if current enters at - should be -P\n",
      "vermogen 1018.6163154135164\n",
      "    Q = 233.00 * 2.33 * sin(0.00 - -51.33) WARNING, if current enters at - should be -Q\n",
      "blindvermogen 1272.9230450436296\n",
      "asvermogen 284.23763558065286\n",
      "    P = 233.00 * 2.33 * cos(0.00 - -51.33) WARNING, if current enters at - should be -P\n",
      "rendement bij slip > 0 (anders 1/x doen) 0.27904288521558196\n",
      "0.46894736842105256\n",
      "        converting (233, 0) into carthesian to calculate with\n",
      "    current in polar notation: (2.4217766733712183, -54.16668177652491)\n",
      "        converting (1.417778828829785-1.963391313061919j) into polar to calculate with\n",
      "total reactance (56.32435465768799+78j)\n",
      "current (2.4217766733712183, -54.16668177652491)\n",
      "    P = 233.00 * 2.42 * cos(0.00 - -54.17) WARNING, if current enters at - should be -P\n",
      "vermogen 991.0274013520195\n",
      "    Q = 233.00 * 2.42 * sin(0.00 - -54.17) WARNING, if current enters at - should be -Q\n",
      "blindvermogen 1372.4105278302814\n",
      "asvermogen 199.25209683454986\n",
      "    P = 233.00 * 2.42 * cos(0.00 - -54.17) WARNING, if current enters at - should be -P\n",
      "rendement bij slip > 0 (anders 1/x doen) 0.2010560924579059\n",
      "0.5731578947368421\n",
      "        converting (233, 0) into carthesian to calculate with\n",
      "    current in polar notation: (2.478904543892294, -56.08311406005377)\n",
      "        converting (1.3832032078113996-2.0571136632743743j) into polar to calculate with\n",
      "total reactance (52.44719926538109+78j)\n",
      "current (2.478904543892294, -56.08311406005377)\n",
      "    P = 233.00 * 2.48 * cos(0.00 - -56.08) WARNING, if current enters at - should be -P\n",
      "vermogen 966.8590422601684\n",
      "    Q = 233.00 * 2.48 * sin(0.00 - -56.08) WARNING, if current enters at - should be -Q\n",
      "blindvermogen 1437.9224506287876\n",
      "asvermogen 137.28839766663688\n",
      "    P = 233.00 * 2.48 * cos(0.00 - -56.08) WARNING, if current enters at - should be -P\n",
      "rendement bij slip > 0 (anders 1/x doen) 0.14199422218331437\n",
      "0.6773684210526316\n",
      "        converting (233, 0) into carthesian to calculate with\n",
      "    current in polar notation: (2.518314502036749, -57.46263878761121)\n",
      "        converting (1.3544740686885124-2.123042140047857j) into polar to calculate with\n",
      "total reactance (49.763014763014766+78j)\n",
      "current (2.518314502036749, -57.46263878761121)\n",
      "    P = 233.00 * 2.52 * cos(0.00 - -57.46) WARNING, if current enters at - should be -P\n",
      "vermogen 946.7773740132702\n",
      "    Q = 233.00 * 2.52 * sin(0.00 - -57.46) WARNING, if current enters at - should be -Q\n",
      "blindvermogen 1484.006455893452\n",
      "asvermogen 90.61980330550931\n",
      "    P = 233.00 * 2.52 * cos(0.00 - -57.46) WARNING, if current enters at - should be -P\n",
      "rendement bij slip > 0 (anders 1/x doen) 0.095713951128113\n",
      "0.7815789473684212\n",
      "        converting (233, 0) into carthesian to calculate with\n",
      "    current in polar notation: (2.5470451965311582, -58.50205532728013)\n",
      "        converting (1.330749554412261-2.1717607733366986j) into polar to calculate with\n",
      "total reactance (47.794612794612796+78j)\n",
      "current (2.5470451965311582, -58.50205532728013)\n",
      "    P = 233.00 * 2.55 * cos(0.00 - -58.50) WARNING, if current enters at - should be -P\n",
      "vermogen 930.1939385341705\n",
      "    Q = 233.00 * 2.55 * sin(0.00 - -58.50) WARNING, if current enters at - should be -Q\n",
      "blindvermogen 1518.0607805623524\n",
      "asvermogen 54.389642055890185\n",
      "    P = 233.00 * 2.55 * cos(0.00 - -58.50) WARNING, if current enters at - should be -P\n",
      "rendement bij slip > 0 (anders 1/x doen) 0.058471292708700225\n",
      "0.8857894736842107\n",
      "        converting (233, 0) into carthesian to calculate with\n",
      "    current in polar notation: (2.568874883258711, -59.31284407567631)\n",
      "        converting (1.3110256840293035-2.209146853799664j) into polar to calculate with\n",
      "total reactance (46.2893642305407+78j)\n",
      "current (2.568874883258711, -59.31284407567631)\n",
      "    P = 233.00 * 2.57 * cos(0.00 - -59.31) WARNING, if current enters at - should be -P\n",
      "vermogen 916.406953136483\n",
      "    Q = 233.00 * 2.57 * sin(0.00 - -59.31) WARNING, if current enters at - should be -Q\n",
      "blindvermogen 1544.1936508059653\n",
      "asvermogen 25.526000748426487\n",
      "    P = 233.00 * 2.57 * cos(0.00 - -59.31) WARNING, if current enters at - should be -P\n",
      "rendement bij slip > 0 (anders 1/x doen) 0.027854438097683037\n",
      "0.99\n",
      "        converting (233, 0) into carthesian to calculate with\n",
      "    current in polar notation: (2.5860010263966013, -59.96272266698687)\n",
      "        converting (1.294457313155629-2.2387008672313025j) into polar to calculate with\n",
      "total reactance (45.101010101010104+78j)\n",
      "current (2.5860010263966013, -59.96272266698687)\n",
      "    P = 233.00 * 2.59 * cos(0.00 - -59.96) WARNING, if current enters at - should be -P\n",
      "vermogen 904.8256618957846\n",
      "    Q = 233.00 * 2.59 * sin(0.00 - -59.96) WARNING, if current enters at - should be -Q\n",
      "blindvermogen 1564.8519061946804\n",
      "asvermogen 2.0264852450073585\n",
      "    P = 233.00 * 2.59 * cos(0.00 - -59.96) WARNING, if current enters at - should be -P\n",
      "rendement bij slip > 0 (anders 1/x doen) 0.0022396416573348286\n"
     ]
    }
   ],
   "source": [
    "import numpy as np\n",
    "s = np.linspace(-0.99,0.99,20)\n",
    "net = 50\n",
    "\n",
    "\n",
    "def tas(slip):\n",
    "    was = 2 * math.pi * net * (1-slip)\n",
    "    print(slip)\n",
    "    return p(slip) / was\n",
    "t = [tas(x) for x in s]"
   ]
  },
  {
   "cell_type": "code",
   "execution_count": 30,
   "metadata": {},
   "outputs": [
    {
     "data": {
      "text/html": [
       "\n",
       "<div id=\"altair-viz-64e11748196e4fecb77d15d04fa9db41\"></div>\n",
       "<script type=\"text/javascript\">\n",
       "  var VEGA_DEBUG = (typeof VEGA_DEBUG == \"undefined\") ? {} : VEGA_DEBUG;\n",
       "  (function(spec, embedOpt){\n",
       "    let outputDiv = document.currentScript.previousElementSibling;\n",
       "    if (outputDiv.id !== \"altair-viz-64e11748196e4fecb77d15d04fa9db41\") {\n",
       "      outputDiv = document.getElementById(\"altair-viz-64e11748196e4fecb77d15d04fa9db41\");\n",
       "    }\n",
       "    const paths = {\n",
       "      \"vega\": \"https://cdn.jsdelivr.net/npm/vega@5?noext\",\n",
       "      \"vega-lib\": \"https://cdn.jsdelivr.net/npm/vega-lib?noext\",\n",
       "      \"vega-lite\": \"https://cdn.jsdelivr.net/npm/vega-lite@5.6.1?noext\",\n",
       "      \"vega-embed\": \"https://cdn.jsdelivr.net/npm/vega-embed@6?noext\",\n",
       "    };\n",
       "\n",
       "    function maybeLoadScript(lib, version) {\n",
       "      var key = `${lib.replace(\"-\", \"\")}_version`;\n",
       "      return (VEGA_DEBUG[key] == version) ?\n",
       "        Promise.resolve(paths[lib]) :\n",
       "        new Promise(function(resolve, reject) {\n",
       "          var s = document.createElement('script');\n",
       "          document.getElementsByTagName(\"head\")[0].appendChild(s);\n",
       "          s.async = true;\n",
       "          s.onload = () => {\n",
       "            VEGA_DEBUG[key] = version;\n",
       "            return resolve(paths[lib]);\n",
       "          };\n",
       "          s.onerror = () => reject(`Error loading script: ${paths[lib]}`);\n",
       "          s.src = paths[lib];\n",
       "        });\n",
       "    }\n",
       "\n",
       "    function showError(err) {\n",
       "      outputDiv.innerHTML = `<div class=\"error\" style=\"color:red;\">${err}</div>`;\n",
       "      throw err;\n",
       "    }\n",
       "\n",
       "    function displayChart(vegaEmbed) {\n",
       "      vegaEmbed(outputDiv, spec, embedOpt)\n",
       "        .catch(err => showError(`Javascript Error: ${err.message}<br>This usually means there's a typo in your chart specification. See the javascript console for the full traceback.`));\n",
       "    }\n",
       "\n",
       "    if(typeof define === \"function\" && define.amd) {\n",
       "      requirejs.config({paths});\n",
       "      require([\"vega-embed\"], displayChart, err => showError(`Error loading script: ${err.message}`));\n",
       "    } else {\n",
       "      maybeLoadScript(\"vega\", \"5\")\n",
       "        .then(() => maybeLoadScript(\"vega-lite\", \"5.6.1\"))\n",
       "        .then(() => maybeLoadScript(\"vega-embed\", \"6\"))\n",
       "        .catch(showError)\n",
       "        .then(() => displayChart(vegaEmbed));\n",
       "    }\n",
       "  })({\"config\": {\"view\": {\"continuousWidth\": 300, \"continuousHeight\": 300}}, \"data\": {\"name\": \"data-dc36c8645a5e92d5cc0c33f71b72309b\"}, \"mark\": {\"type\": \"line\"}, \"encoding\": {\"x\": {\"field\": \"s\", \"type\": \"quantitative\"}, \"y\": {\"field\": \"t\", \"type\": \"quantitative\"}}, \"$schema\": \"https://vega.github.io/schema/vega-lite/v5.6.1.json\", \"datasets\": {\"data-dc36c8645a5e92d5cc0c33f71b72309b\": [{\"s\": -0.99, \"t\": -0.7811179800884653}, {\"s\": -0.8857894736842105, \"t\": -0.8806020229145228}, {\"s\": -0.781578947368421, \"t\": -1.0085032414093633}, {\"s\": -0.6773684210526316, \"t\": -1.1786288142275216}, {\"s\": -0.5731578947368421, \"t\": -1.4150289638130282}, {\"s\": -0.46894736842105256, \"t\": -1.762871709526046}, {\"s\": -0.36473684210526314, \"t\": -2.314349957164326}, {\"s\": -0.2605263157894737, \"t\": -3.2645688107561033}, {\"s\": -0.15631578947368419, \"t\": -4.7902539862618845}, {\"s\": -0.052105263157894655, \"t\": -3.2400767057481117}, {\"s\": 0.05210526315789488, \"t\": 1.7280556708946226}, {\"s\": 0.15631578947368419, \"t\": 2.0885216136758205}, {\"s\": 0.2605263157894737, \"t\": 1.734997943891962}, {\"s\": 0.36473684210526325, \"t\": 1.4242231476269434}, {\"s\": 0.46894736842105256, \"t\": 1.194305582795299}, {\"s\": 0.5731578947368421, \"t\": 1.0238037367161792}, {\"s\": 0.6773684210526316, \"t\": 0.8940593902892483}, {\"s\": 0.7815789473684212, \"t\": 0.7926324209044893}, {\"s\": 0.8857894736842107, \"t\": 0.7114211496139219}, {\"s\": 0.99, \"t\": 0.6450502876914228}]}}, {\"mode\": \"vega-lite\"});\n",
       "</script>"
      ],
      "text/plain": [
       "alt.Chart(...)"
      ]
     },
     "execution_count": 30,
     "metadata": {},
     "output_type": "execute_result"
    }
   ],
   "source": [
    "import altair as alt\n",
    "import numpy as np\n",
    "import pandas as pd\n",
    "\n",
    "\n",
    "source = pd.DataFrame({\n",
    "  's': s,\n",
    "  't': t\n",
    "})\n",
    "\n",
    "alt.Chart(source).mark_line().encode(\n",
    "    x='s',\n",
    "    y='t'\n",
    ")"
   ]
  }
 ],
 "metadata": {
  "kernelspec": {
   "display_name": ".aocenvpy311",
   "language": "python",
   "name": "python3"
  },
  "language_info": {
   "codemirror_mode": {
    "name": "ipython",
    "version": 3
   },
   "file_extension": ".py",
   "mimetype": "text/x-python",
   "name": "python",
   "nbconvert_exporter": "python",
   "pygments_lexer": "ipython3",
   "version": "3.11.0"
  },
  "orig_nbformat": 4
 },
 "nbformat": 4,
 "nbformat_minor": 2
}
